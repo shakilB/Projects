{
  "nbformat": 4,
  "nbformat_minor": 0,
  "metadata": {
    "colab": {
      "name": "Sentment Classification Using LSTM and CNN.ipynb",
      "provenance": [],
      "collapsed_sections": [],
      "authorship_tag": "ABX9TyPGq4VMUuipmDomu7dVHM58",
      "include_colab_link": true
    },
    "kernelspec": {
      "name": "python3",
      "display_name": "Python 3"
    },
    "language_info": {
      "name": "python"
    },
    "accelerator": "GPU"
  },
  "cells": [
    {
      "cell_type": "markdown",
      "metadata": {
        "id": "view-in-github",
        "colab_type": "text"
      },
      "source": [
        "<a href=\"https://colab.research.google.com/github/shakilB/Projects/blob/main/Sentment_Classification_Using_LSTM_and_CNN.ipynb\" target=\"_parent\"><img src=\"https://colab.research.google.com/assets/colab-badge.svg\" alt=\"Open In Colab\"/></a>"
      ]
    },
    {
      "cell_type": "code",
      "metadata": {
        "id": "PIqa0J9c8wrx"
      },
      "source": [
        "import numpy as np\n",
        "import pandas as pd\n",
        "import matplotlib.pyplot as plt\n",
        "import sklearn"
      ],
      "execution_count": null,
      "outputs": []
    },
    {
      "cell_type": "code",
      "metadata": {
        "id": "o5kxJhB79P1p"
      },
      "source": [
        ""
      ],
      "execution_count": null,
      "outputs": []
    },
    {
      "cell_type": "code",
      "metadata": {
        "id": "dWNizPZB_RjX"
      },
      "source": [
        "data = pd.read_csv('/content/finaldataset.csv')"
      ],
      "execution_count": null,
      "outputs": []
    },
    {
      "cell_type": "code",
      "metadata": {
        "colab": {
          "base_uri": "https://localhost:8080/"
        },
        "id": "72s2Hyfg_aqj",
        "outputId": "61bbdfc1-3e31-498c-a56e-c99e602a5282"
      },
      "source": [
        "data.shape"
      ],
      "execution_count": null,
      "outputs": [
        {
          "output_type": "execute_result",
          "data": {
            "text/plain": [
              "(13802, 6)"
            ]
          },
          "metadata": {},
          "execution_count": 3
        }
      ]
    },
    {
      "cell_type": "code",
      "metadata": {
        "colab": {
          "base_uri": "https://localhost:8080/",
          "height": 206
        },
        "id": "u5K1cd3l_d_r",
        "outputId": "717d79c7-65fe-4807-a949-651fe955229f"
      },
      "source": [
        "data.head()"
      ],
      "execution_count": null,
      "outputs": [
        {
          "output_type": "execute_result",
          "data": {
            "text/html": [
              "<div>\n",
              "<style scoped>\n",
              "    .dataframe tbody tr th:only-of-type {\n",
              "        vertical-align: middle;\n",
              "    }\n",
              "\n",
              "    .dataframe tbody tr th {\n",
              "        vertical-align: top;\n",
              "    }\n",
              "\n",
              "    .dataframe thead th {\n",
              "        text-align: right;\n",
              "    }\n",
              "</style>\n",
              "<table border=\"1\" class=\"dataframe\">\n",
              "  <thead>\n",
              "    <tr style=\"text-align: right;\">\n",
              "      <th></th>\n",
              "      <th>data</th>\n",
              "      <th>title_x</th>\n",
              "      <th>title_y</th>\n",
              "      <th>title</th>\n",
              "      <th>value</th>\n",
              "      <th>tag</th>\n",
              "    </tr>\n",
              "  </thead>\n",
              "  <tbody>\n",
              "    <tr>\n",
              "      <th>0</th>\n",
              "      <td>লিখার সময় পারলে সত্য লিখার অভ্যাস শিখুন।</td>\n",
              "      <td>-1</td>\n",
              "      <td>-1</td>\n",
              "      <td>2</td>\n",
              "      <td>-1</td>\n",
              "      <td>কিছুটা নেতিবাচক</td>\n",
              "    </tr>\n",
              "    <tr>\n",
              "      <th>1</th>\n",
              "      <td>এটা কেন হচ্ছে? সংশ্লিষ্ট সকলের ডিপ্রেশনের ফলে?...</td>\n",
              "      <td>-1</td>\n",
              "      <td>-1</td>\n",
              "      <td>-1</td>\n",
              "      <td>-1</td>\n",
              "      <td>কিছুটা নেতিবাচক</td>\n",
              "    </tr>\n",
              "    <tr>\n",
              "      <th>2</th>\n",
              "      <td>আমাদের দেশের স্বাভাবিক অর্থনৈতিক গতিপ্রবাহকে ব...</td>\n",
              "      <td>-1</td>\n",
              "      <td>-2</td>\n",
              "      <td>-2</td>\n",
              "      <td>-5</td>\n",
              "      <td>নিশ্চিত নেতিবাচক</td>\n",
              "    </tr>\n",
              "    <tr>\n",
              "      <th>3</th>\n",
              "      <td>চুরি নয় লুটপাট।</td>\n",
              "      <td>-2</td>\n",
              "      <td>-2</td>\n",
              "      <td>-2</td>\n",
              "      <td>-6</td>\n",
              "      <td>নিশ্চিত নেতিবাচক</td>\n",
              "    </tr>\n",
              "    <tr>\n",
              "      <th>4</th>\n",
              "      <td>ইসলামী ব্যাংকের বর্তমান অবস্থা দেখে মনে হয় শাস...</td>\n",
              "      <td>0</td>\n",
              "      <td>-1</td>\n",
              "      <td>0</td>\n",
              "      <td>0</td>\n",
              "      <td>নিরপেক্ষ</td>\n",
              "    </tr>\n",
              "  </tbody>\n",
              "</table>\n",
              "</div>"
            ],
            "text/plain": [
              "                                                data  ...               tag\n",
              "0           লিখার সময় পারলে সত্য লিখার অভ্যাস শিখুন।  ...   কিছুটা নেতিবাচক\n",
              "1  এটা কেন হচ্ছে? সংশ্লিষ্ট সকলের ডিপ্রেশনের ফলে?...  ...   কিছুটা নেতিবাচক\n",
              "2  আমাদের দেশের স্বাভাবিক অর্থনৈতিক গতিপ্রবাহকে ব...  ...  নিশ্চিত নেতিবাচক\n",
              "3                                    চুরি নয় লুটপাট।  ...  নিশ্চিত নেতিবাচক\n",
              "4  ইসলামী ব্যাংকের বর্তমান অবস্থা দেখে মনে হয় শাস...  ...          নিরপেক্ষ\n",
              "\n",
              "[5 rows x 6 columns]"
            ]
          },
          "metadata": {},
          "execution_count": 4
        }
      ]
    },
    {
      "cell_type": "code",
      "metadata": {
        "colab": {
          "base_uri": "https://localhost:8080/",
          "height": 175
        },
        "id": "FtN2YpBY_ggD",
        "outputId": "2f4df29e-6dfd-43e6-94ad-8dc791e7e9a6"
      },
      "source": [
        "data.describe().transpose()"
      ],
      "execution_count": null,
      "outputs": [
        {
          "output_type": "execute_result",
          "data": {
            "text/html": [
              "<div>\n",
              "<style scoped>\n",
              "    .dataframe tbody tr th:only-of-type {\n",
              "        vertical-align: middle;\n",
              "    }\n",
              "\n",
              "    .dataframe tbody tr th {\n",
              "        vertical-align: top;\n",
              "    }\n",
              "\n",
              "    .dataframe thead th {\n",
              "        text-align: right;\n",
              "    }\n",
              "</style>\n",
              "<table border=\"1\" class=\"dataframe\">\n",
              "  <thead>\n",
              "    <tr style=\"text-align: right;\">\n",
              "      <th></th>\n",
              "      <th>count</th>\n",
              "      <th>mean</th>\n",
              "      <th>std</th>\n",
              "      <th>min</th>\n",
              "      <th>25%</th>\n",
              "      <th>50%</th>\n",
              "      <th>75%</th>\n",
              "      <th>max</th>\n",
              "    </tr>\n",
              "  </thead>\n",
              "  <tbody>\n",
              "    <tr>\n",
              "      <th>title_x</th>\n",
              "      <td>13802.0</td>\n",
              "      <td>-0.285176</td>\n",
              "      <td>1.405207</td>\n",
              "      <td>-2.0</td>\n",
              "      <td>-2.0</td>\n",
              "      <td>0.0</td>\n",
              "      <td>1.0</td>\n",
              "      <td>2.0</td>\n",
              "    </tr>\n",
              "    <tr>\n",
              "      <th>title_y</th>\n",
              "      <td>13802.0</td>\n",
              "      <td>-0.259962</td>\n",
              "      <td>1.253276</td>\n",
              "      <td>-2.0</td>\n",
              "      <td>-1.0</td>\n",
              "      <td>0.0</td>\n",
              "      <td>1.0</td>\n",
              "      <td>2.0</td>\n",
              "    </tr>\n",
              "    <tr>\n",
              "      <th>title</th>\n",
              "      <td>13802.0</td>\n",
              "      <td>-0.343356</td>\n",
              "      <td>1.337693</td>\n",
              "      <td>-2.0</td>\n",
              "      <td>-1.0</td>\n",
              "      <td>-1.0</td>\n",
              "      <td>1.0</td>\n",
              "      <td>2.0</td>\n",
              "    </tr>\n",
              "    <tr>\n",
              "      <th>value</th>\n",
              "      <td>13802.0</td>\n",
              "      <td>-0.574554</td>\n",
              "      <td>2.686582</td>\n",
              "      <td>-6.0</td>\n",
              "      <td>-2.0</td>\n",
              "      <td>-1.0</td>\n",
              "      <td>1.0</td>\n",
              "      <td>6.0</td>\n",
              "    </tr>\n",
              "  </tbody>\n",
              "</table>\n",
              "</div>"
            ],
            "text/plain": [
              "           count      mean       std  min  25%  50%  75%  max\n",
              "title_x  13802.0 -0.285176  1.405207 -2.0 -2.0  0.0  1.0  2.0\n",
              "title_y  13802.0 -0.259962  1.253276 -2.0 -1.0  0.0  1.0  2.0\n",
              "title    13802.0 -0.343356  1.337693 -2.0 -1.0 -1.0  1.0  2.0\n",
              "value    13802.0 -0.574554  2.686582 -6.0 -2.0 -1.0  1.0  6.0"
            ]
          },
          "metadata": {},
          "execution_count": 5
        }
      ]
    },
    {
      "cell_type": "code",
      "metadata": {
        "id": "dpokme2h_lwT"
      },
      "source": [
        "data.drop(['title_x','title_y','title','value'],axis=1,inplace=True)"
      ],
      "execution_count": null,
      "outputs": []
    },
    {
      "cell_type": "code",
      "metadata": {
        "colab": {
          "base_uri": "https://localhost:8080/",
          "height": 206
        },
        "id": "DQ0KOpFZ_vTH",
        "outputId": "d6a86b3f-3ab3-4c6a-86fb-9d8648e2a6ff"
      },
      "source": [
        "data.head()"
      ],
      "execution_count": null,
      "outputs": [
        {
          "output_type": "execute_result",
          "data": {
            "text/html": [
              "<div>\n",
              "<style scoped>\n",
              "    .dataframe tbody tr th:only-of-type {\n",
              "        vertical-align: middle;\n",
              "    }\n",
              "\n",
              "    .dataframe tbody tr th {\n",
              "        vertical-align: top;\n",
              "    }\n",
              "\n",
              "    .dataframe thead th {\n",
              "        text-align: right;\n",
              "    }\n",
              "</style>\n",
              "<table border=\"1\" class=\"dataframe\">\n",
              "  <thead>\n",
              "    <tr style=\"text-align: right;\">\n",
              "      <th></th>\n",
              "      <th>data</th>\n",
              "      <th>tag</th>\n",
              "    </tr>\n",
              "  </thead>\n",
              "  <tbody>\n",
              "    <tr>\n",
              "      <th>0</th>\n",
              "      <td>লিখার সময় পারলে সত্য লিখার অভ্যাস শিখুন।</td>\n",
              "      <td>কিছুটা নেতিবাচক</td>\n",
              "    </tr>\n",
              "    <tr>\n",
              "      <th>1</th>\n",
              "      <td>এটা কেন হচ্ছে? সংশ্লিষ্ট সকলের ডিপ্রেশনের ফলে?...</td>\n",
              "      <td>কিছুটা নেতিবাচক</td>\n",
              "    </tr>\n",
              "    <tr>\n",
              "      <th>2</th>\n",
              "      <td>আমাদের দেশের স্বাভাবিক অর্থনৈতিক গতিপ্রবাহকে ব...</td>\n",
              "      <td>নিশ্চিত নেতিবাচক</td>\n",
              "    </tr>\n",
              "    <tr>\n",
              "      <th>3</th>\n",
              "      <td>চুরি নয় লুটপাট।</td>\n",
              "      <td>নিশ্চিত নেতিবাচক</td>\n",
              "    </tr>\n",
              "    <tr>\n",
              "      <th>4</th>\n",
              "      <td>ইসলামী ব্যাংকের বর্তমান অবস্থা দেখে মনে হয় শাস...</td>\n",
              "      <td>নিরপেক্ষ</td>\n",
              "    </tr>\n",
              "  </tbody>\n",
              "</table>\n",
              "</div>"
            ],
            "text/plain": [
              "                                                data               tag\n",
              "0           লিখার সময় পারলে সত্য লিখার অভ্যাস শিখুন।   কিছুটা নেতিবাচক\n",
              "1  এটা কেন হচ্ছে? সংশ্লিষ্ট সকলের ডিপ্রেশনের ফলে?...   কিছুটা নেতিবাচক\n",
              "2  আমাদের দেশের স্বাভাবিক অর্থনৈতিক গতিপ্রবাহকে ব...  নিশ্চিত নেতিবাচক\n",
              "3                                    চুরি নয় লুটপাট।  নিশ্চিত নেতিবাচক\n",
              "4  ইসলামী ব্যাংকের বর্তমান অবস্থা দেখে মনে হয় শাস...          নিরপেক্ষ"
            ]
          },
          "metadata": {},
          "execution_count": 7
        }
      ]
    },
    {
      "cell_type": "code",
      "metadata": {
        "colab": {
          "base_uri": "https://localhost:8080/",
          "height": 206
        },
        "id": "0HQB6RL-_xqO",
        "outputId": "f001f92b-c1b9-4ae6-d00a-7e1555ea31d4"
      },
      "source": [
        "data.tail()"
      ],
      "execution_count": null,
      "outputs": [
        {
          "output_type": "execute_result",
          "data": {
            "text/html": [
              "<div>\n",
              "<style scoped>\n",
              "    .dataframe tbody tr th:only-of-type {\n",
              "        vertical-align: middle;\n",
              "    }\n",
              "\n",
              "    .dataframe tbody tr th {\n",
              "        vertical-align: top;\n",
              "    }\n",
              "\n",
              "    .dataframe thead th {\n",
              "        text-align: right;\n",
              "    }\n",
              "</style>\n",
              "<table border=\"1\" class=\"dataframe\">\n",
              "  <thead>\n",
              "    <tr style=\"text-align: right;\">\n",
              "      <th></th>\n",
              "      <th>data</th>\n",
              "      <th>tag</th>\n",
              "    </tr>\n",
              "  </thead>\n",
              "  <tbody>\n",
              "    <tr>\n",
              "      <th>13797</th>\n",
              "      <td>ভালভাবে নির্বাচন দেন।</td>\n",
              "      <td>নিরপেক্ষ</td>\n",
              "    </tr>\n",
              "    <tr>\n",
              "      <th>13798</th>\n",
              "      <td>বঙ্গবন্ধুর খুনীদের পারবেন না? এই মূহূর্তে অবশ্...</td>\n",
              "      <td>নিরপেক্ষ</td>\n",
              "    </tr>\n",
              "    <tr>\n",
              "      <th>13799</th>\n",
              "      <td>আইনকে তার নিজস্ব গতিতে চলতে দেওয়া হোক।</td>\n",
              "      <td>নিরপেক্ষ</td>\n",
              "    </tr>\n",
              "    <tr>\n",
              "      <th>13800</th>\n",
              "      <td>দেশের প্রশাসন নিরপেক্ষ না। এমতাবস্থায় তারেক জি...</td>\n",
              "      <td>নিরপেক্ষ</td>\n",
              "    </tr>\n",
              "    <tr>\n",
              "      <th>13801</th>\n",
              "      <td>সেই ২১ আগস্টের কারিগর বিএনপির রা আজ আমাদের গনত...</td>\n",
              "      <td>নিরপেক্ষ</td>\n",
              "    </tr>\n",
              "  </tbody>\n",
              "</table>\n",
              "</div>"
            ],
            "text/plain": [
              "                                                    data       tag\n",
              "13797                              ভালভাবে নির্বাচন দেন।  নিরপেক্ষ\n",
              "13798  বঙ্গবন্ধুর খুনীদের পারবেন না? এই মূহূর্তে অবশ্...  নিরপেক্ষ\n",
              "13799             আইনকে তার নিজস্ব গতিতে চলতে দেওয়া হোক।  নিরপেক্ষ\n",
              "13800  দেশের প্রশাসন নিরপেক্ষ না। এমতাবস্থায় তারেক জি...  নিরপেক্ষ\n",
              "13801  সেই ২১ আগস্টের কারিগর বিএনপির রা আজ আমাদের গনত...  নিরপেক্ষ"
            ]
          },
          "metadata": {},
          "execution_count": 8
        }
      ]
    },
    {
      "cell_type": "code",
      "metadata": {
        "colab": {
          "base_uri": "https://localhost:8080/"
        },
        "id": "4biGjFUj_2tj",
        "outputId": "426177d2-9f91-4d2c-c532-f65f5f0db382"
      },
      "source": [
        "data.isnull().sum()"
      ],
      "execution_count": null,
      "outputs": [
        {
          "output_type": "execute_result",
          "data": {
            "text/plain": [
              "data    0\n",
              "tag     0\n",
              "dtype: int64"
            ]
          },
          "metadata": {},
          "execution_count": 9
        }
      ]
    },
    {
      "cell_type": "code",
      "metadata": {
        "colab": {
          "base_uri": "https://localhost:8080/",
          "height": 424
        },
        "id": "0IcF0lRV_9js",
        "outputId": "cf9dc0db-3453-4e63-900e-7ee0700d3f0f"
      },
      "source": [
        "data.isnull()"
      ],
      "execution_count": null,
      "outputs": [
        {
          "output_type": "execute_result",
          "data": {
            "text/html": [
              "<div>\n",
              "<style scoped>\n",
              "    .dataframe tbody tr th:only-of-type {\n",
              "        vertical-align: middle;\n",
              "    }\n",
              "\n",
              "    .dataframe tbody tr th {\n",
              "        vertical-align: top;\n",
              "    }\n",
              "\n",
              "    .dataframe thead th {\n",
              "        text-align: right;\n",
              "    }\n",
              "</style>\n",
              "<table border=\"1\" class=\"dataframe\">\n",
              "  <thead>\n",
              "    <tr style=\"text-align: right;\">\n",
              "      <th></th>\n",
              "      <th>data</th>\n",
              "      <th>tag</th>\n",
              "    </tr>\n",
              "  </thead>\n",
              "  <tbody>\n",
              "    <tr>\n",
              "      <th>0</th>\n",
              "      <td>False</td>\n",
              "      <td>False</td>\n",
              "    </tr>\n",
              "    <tr>\n",
              "      <th>1</th>\n",
              "      <td>False</td>\n",
              "      <td>False</td>\n",
              "    </tr>\n",
              "    <tr>\n",
              "      <th>2</th>\n",
              "      <td>False</td>\n",
              "      <td>False</td>\n",
              "    </tr>\n",
              "    <tr>\n",
              "      <th>3</th>\n",
              "      <td>False</td>\n",
              "      <td>False</td>\n",
              "    </tr>\n",
              "    <tr>\n",
              "      <th>4</th>\n",
              "      <td>False</td>\n",
              "      <td>False</td>\n",
              "    </tr>\n",
              "    <tr>\n",
              "      <th>...</th>\n",
              "      <td>...</td>\n",
              "      <td>...</td>\n",
              "    </tr>\n",
              "    <tr>\n",
              "      <th>13797</th>\n",
              "      <td>False</td>\n",
              "      <td>False</td>\n",
              "    </tr>\n",
              "    <tr>\n",
              "      <th>13798</th>\n",
              "      <td>False</td>\n",
              "      <td>False</td>\n",
              "    </tr>\n",
              "    <tr>\n",
              "      <th>13799</th>\n",
              "      <td>False</td>\n",
              "      <td>False</td>\n",
              "    </tr>\n",
              "    <tr>\n",
              "      <th>13800</th>\n",
              "      <td>False</td>\n",
              "      <td>False</td>\n",
              "    </tr>\n",
              "    <tr>\n",
              "      <th>13801</th>\n",
              "      <td>False</td>\n",
              "      <td>False</td>\n",
              "    </tr>\n",
              "  </tbody>\n",
              "</table>\n",
              "<p>13802 rows × 2 columns</p>\n",
              "</div>"
            ],
            "text/plain": [
              "        data    tag\n",
              "0      False  False\n",
              "1      False  False\n",
              "2      False  False\n",
              "3      False  False\n",
              "4      False  False\n",
              "...      ...    ...\n",
              "13797  False  False\n",
              "13798  False  False\n",
              "13799  False  False\n",
              "13800  False  False\n",
              "13801  False  False\n",
              "\n",
              "[13802 rows x 2 columns]"
            ]
          },
          "metadata": {},
          "execution_count": 10
        }
      ]
    },
    {
      "cell_type": "code",
      "metadata": {
        "colab": {
          "base_uri": "https://localhost:8080/",
          "height": 175
        },
        "id": "4H4TWrmKABgz",
        "outputId": "aeb648d4-7f68-417a-a8a4-959728d16cc3"
      },
      "source": [
        "data.describe()"
      ],
      "execution_count": null,
      "outputs": [
        {
          "output_type": "execute_result",
          "data": {
            "text/html": [
              "<div>\n",
              "<style scoped>\n",
              "    .dataframe tbody tr th:only-of-type {\n",
              "        vertical-align: middle;\n",
              "    }\n",
              "\n",
              "    .dataframe tbody tr th {\n",
              "        vertical-align: top;\n",
              "    }\n",
              "\n",
              "    .dataframe thead th {\n",
              "        text-align: right;\n",
              "    }\n",
              "</style>\n",
              "<table border=\"1\" class=\"dataframe\">\n",
              "  <thead>\n",
              "    <tr style=\"text-align: right;\">\n",
              "      <th></th>\n",
              "      <th>data</th>\n",
              "      <th>tag</th>\n",
              "    </tr>\n",
              "  </thead>\n",
              "  <tbody>\n",
              "    <tr>\n",
              "      <th>count</th>\n",
              "      <td>13802</td>\n",
              "      <td>13802</td>\n",
              "    </tr>\n",
              "    <tr>\n",
              "      <th>unique</th>\n",
              "      <td>13542</td>\n",
              "      <td>5</td>\n",
              "    </tr>\n",
              "    <tr>\n",
              "      <th>top</th>\n",
              "      <td>বোঝা যাচ্ছে সৃষ্টিকর্তা কিছু মানুষকে লাজ লজ্জা...</td>\n",
              "      <td>নিশ্চিত নেতিবাচক</td>\n",
              "    </tr>\n",
              "    <tr>\n",
              "      <th>freq</th>\n",
              "      <td>2</td>\n",
              "      <td>3928</td>\n",
              "    </tr>\n",
              "  </tbody>\n",
              "</table>\n",
              "</div>"
            ],
            "text/plain": [
              "                                                     data               tag\n",
              "count                                               13802             13802\n",
              "unique                                              13542                 5\n",
              "top     বোঝা যাচ্ছে সৃষ্টিকর্তা কিছু মানুষকে লাজ লজ্জা...  নিশ্চিত নেতিবাচক\n",
              "freq                                                    2              3928"
            ]
          },
          "metadata": {},
          "execution_count": 11
        }
      ]
    },
    {
      "cell_type": "code",
      "metadata": {
        "colab": {
          "base_uri": "https://localhost:8080/"
        },
        "id": "3Pdx5P2yAJ4k",
        "outputId": "5e7f3c28-c2ed-4b26-dbc9-5e11190f95e2"
      },
      "source": [
        "data.tag.unique()"
      ],
      "execution_count": null,
      "outputs": [
        {
          "output_type": "execute_result",
          "data": {
            "text/plain": [
              "array(['কিছুটা নেতিবাচক', 'নিশ্চিত নেতিবাচক', 'নিরপেক্ষ',\n",
              "       'কিছুটা ইতিবাচক', 'নিশ্চিত ইতিবাচক'], dtype=object)"
            ]
          },
          "metadata": {},
          "execution_count": 12
        }
      ]
    },
    {
      "cell_type": "code",
      "metadata": {
        "id": "Kg1T7BNIgtPY"
      },
      "source": [
        "data.loc[(data.tag == 'কিছুটা নেতিবাচক'),'label']=1\n",
        "data.loc[(data.tag == 'নিশ্চিত নেতিবাচক'),'label']=1\n",
        "data.loc[(data.tag == 'নিরপেক্ষ'),'label']=0\n",
        "data.loc[(data.tag == 'কিছুটা ইতিবাচক'),'label']=0\n",
        "data.loc[(data.tag == 'নিশ্চিত ইতিবাচক'),'label']=0\n",
        "\n"
      ],
      "execution_count": null,
      "outputs": []
    },
    {
      "cell_type": "code",
      "metadata": {
        "id": "4clRWw-tiWyX"
      },
      "source": [
        "data['label'] = data['label'].apply(np.int64)"
      ],
      "execution_count": null,
      "outputs": []
    },
    {
      "cell_type": "code",
      "metadata": {
        "colab": {
          "base_uri": "https://localhost:8080/",
          "height": 206
        },
        "id": "ZsiXuPUXiAM8",
        "outputId": "ec7a33ee-1c6d-49e1-bad2-4d5cc6527bbc"
      },
      "source": [
        "data.head()"
      ],
      "execution_count": null,
      "outputs": [
        {
          "output_type": "execute_result",
          "data": {
            "text/html": [
              "<div>\n",
              "<style scoped>\n",
              "    .dataframe tbody tr th:only-of-type {\n",
              "        vertical-align: middle;\n",
              "    }\n",
              "\n",
              "    .dataframe tbody tr th {\n",
              "        vertical-align: top;\n",
              "    }\n",
              "\n",
              "    .dataframe thead th {\n",
              "        text-align: right;\n",
              "    }\n",
              "</style>\n",
              "<table border=\"1\" class=\"dataframe\">\n",
              "  <thead>\n",
              "    <tr style=\"text-align: right;\">\n",
              "      <th></th>\n",
              "      <th>data</th>\n",
              "      <th>tag</th>\n",
              "      <th>label</th>\n",
              "    </tr>\n",
              "  </thead>\n",
              "  <tbody>\n",
              "    <tr>\n",
              "      <th>0</th>\n",
              "      <td>লিখার সময় পারলে সত্য লিখার অভ্যাস শিখুন।</td>\n",
              "      <td>কিছুটা নেতিবাচক</td>\n",
              "      <td>1</td>\n",
              "    </tr>\n",
              "    <tr>\n",
              "      <th>1</th>\n",
              "      <td>এটা কেন হচ্ছে? সংশ্লিষ্ট সকলের ডিপ্রেশনের ফলে?...</td>\n",
              "      <td>কিছুটা নেতিবাচক</td>\n",
              "      <td>1</td>\n",
              "    </tr>\n",
              "    <tr>\n",
              "      <th>2</th>\n",
              "      <td>আমাদের দেশের স্বাভাবিক অর্থনৈতিক গতিপ্রবাহকে ব...</td>\n",
              "      <td>নিশ্চিত নেতিবাচক</td>\n",
              "      <td>1</td>\n",
              "    </tr>\n",
              "    <tr>\n",
              "      <th>3</th>\n",
              "      <td>চুরি নয় লুটপাট।</td>\n",
              "      <td>নিশ্চিত নেতিবাচক</td>\n",
              "      <td>1</td>\n",
              "    </tr>\n",
              "    <tr>\n",
              "      <th>4</th>\n",
              "      <td>ইসলামী ব্যাংকের বর্তমান অবস্থা দেখে মনে হয় শাস...</td>\n",
              "      <td>নিরপেক্ষ</td>\n",
              "      <td>0</td>\n",
              "    </tr>\n",
              "  </tbody>\n",
              "</table>\n",
              "</div>"
            ],
            "text/plain": [
              "                                                data               tag  label\n",
              "0           লিখার সময় পারলে সত্য লিখার অভ্যাস শিখুন।   কিছুটা নেতিবাচক      1\n",
              "1  এটা কেন হচ্ছে? সংশ্লিষ্ট সকলের ডিপ্রেশনের ফলে?...   কিছুটা নেতিবাচক      1\n",
              "2  আমাদের দেশের স্বাভাবিক অর্থনৈতিক গতিপ্রবাহকে ব...  নিশ্চিত নেতিবাচক      1\n",
              "3                                    চুরি নয় লুটপাট।  নিশ্চিত নেতিবাচক      1\n",
              "4  ইসলামী ব্যাংকের বর্তমান অবস্থা দেখে মনে হয় শাস...          নিরপেক্ষ      0"
            ]
          },
          "metadata": {},
          "execution_count": 15
        }
      ]
    },
    {
      "cell_type": "code",
      "metadata": {
        "id": "_MakXuMUiNDM"
      },
      "source": [
        ""
      ],
      "execution_count": null,
      "outputs": []
    },
    {
      "cell_type": "code",
      "metadata": {
        "id": "oRf9zHeBAOUc"
      },
      "source": [
        ""
      ],
      "execution_count": null,
      "outputs": []
    },
    {
      "cell_type": "code",
      "metadata": {
        "id": "HDMl4bG3ARZs"
      },
      "source": [
        ""
      ],
      "execution_count": null,
      "outputs": []
    },
    {
      "cell_type": "code",
      "metadata": {
        "id": "yZEUBA2_AUZT"
      },
      "source": [
        ""
      ],
      "execution_count": null,
      "outputs": []
    },
    {
      "cell_type": "code",
      "metadata": {
        "colab": {
          "base_uri": "https://localhost:8080/"
        },
        "id": "sXJwTrRtAXWU",
        "outputId": "3fe86dda-c899-4bb1-a0b3-a8b5b4381b6c"
      },
      "source": [
        "data.label"
      ],
      "execution_count": null,
      "outputs": [
        {
          "output_type": "execute_result",
          "data": {
            "text/plain": [
              "0        1\n",
              "1        1\n",
              "2        1\n",
              "3        1\n",
              "4        0\n",
              "        ..\n",
              "13797    0\n",
              "13798    0\n",
              "13799    0\n",
              "13800    0\n",
              "13801    0\n",
              "Name: label, Length: 13802, dtype: int64"
            ]
          },
          "metadata": {},
          "execution_count": 16
        }
      ]
    },
    {
      "cell_type": "code",
      "metadata": {
        "colab": {
          "base_uri": "https://localhost:8080/",
          "height": 296
        },
        "id": "tMbx0e-cAbfr",
        "outputId": "8489bc8c-9428-4ebb-eb53-388e00bfb61b"
      },
      "source": [
        "tmp =  data['label'].value_counts().sort_index()\n",
        "import seaborn as sb\n",
        "sb.countplot(x='label' , data = data , order = tmp.index)"
      ],
      "execution_count": null,
      "outputs": [
        {
          "output_type": "execute_result",
          "data": {
            "text/plain": [
              "<matplotlib.axes._subplots.AxesSubplot at 0x7fb0ccbc9910>"
            ]
          },
          "metadata": {},
          "execution_count": 17
        },
        {
          "output_type": "display_data",
          "data": {
            "image/png": "[encoded data removed]",
            "text/plain": [
              "<Figure size 432x288 with 1 Axes>"
            ]
          },
          "metadata": {
            "needs_background": "light"
          }
        }
      ]
    },
    {
      "cell_type": "code",
      "metadata": {
        "id": "_ZDrxenCAhOF",
        "colab": {
          "base_uri": "https://localhost:8080/"
        },
        "outputId": "4f4b6959-ea9d-4331-87a0-99fcf4e83701"
      },
      "source": [
        "from sklearn.utils import class_weight\n",
        "class_weights = list(class_weight.compute_class_weight(\n",
        "                                        class_weight = \"balanced\",\n",
        "                                        classes = np.unique(data['label']),\n",
        "                                        y = data['label']                                                    \n",
        "                                    ))\n",
        "weights = dict(zip(np.unique(data['label']), class_weights))\n",
        "weights"
      ],
      "execution_count": null,
      "outputs": [
        {
          "output_type": "execute_result",
          "data": {
            "text/plain": [
              "{0: 1.0337028160575195, 1: 0.9684254841425765}"
            ]
          },
          "metadata": {},
          "execution_count": 18
        }
      ]
    },
    {
      "cell_type": "code",
      "metadata": {
        "id": "3xu7-7nWAkcc"
      },
      "source": [
        ""
      ],
      "execution_count": null,
      "outputs": []
    },
    {
      "cell_type": "code",
      "metadata": {
        "id": "kDR6AyuaAm3T"
      },
      "source": [
        ""
      ],
      "execution_count": null,
      "outputs": []
    },
    {
      "cell_type": "code",
      "metadata": {
        "id": "2hzVkPT2Ap0U"
      },
      "source": [
        ""
      ],
      "execution_count": null,
      "outputs": []
    },
    {
      "cell_type": "code",
      "metadata": {
        "id": "s9HveVDQRbDl"
      },
      "source": [
        ""
      ],
      "execution_count": null,
      "outputs": []
    },
    {
      "cell_type": "code",
      "metadata": {
        "id": "v3vncFisAuEV"
      },
      "source": [
        "new_df = data.loc[: , ['data' , 'label']] \n"
      ],
      "execution_count": null,
      "outputs": []
    },
    {
      "cell_type": "code",
      "metadata": {
        "colab": {
          "base_uri": "https://localhost:8080/"
        },
        "id": "aDS-GH77Bh9O",
        "outputId": "481f7dc6-c14d-4814-d491-4732caa71719"
      },
      "source": [
        "new_df.shape"
      ],
      "execution_count": null,
      "outputs": [
        {
          "output_type": "execute_result",
          "data": {
            "text/plain": [
              "(13802, 2)"
            ]
          },
          "metadata": {},
          "execution_count": 53
        }
      ]
    },
    {
      "cell_type": "code",
      "metadata": {
        "colab": {
          "base_uri": "https://localhost:8080/",
          "height": 206
        },
        "id": "O4Z4l-0RBi8l",
        "outputId": "62dee02c-96ae-457a-e4f7-b114fa98dfeb"
      },
      "source": [
        "new_df.sample(5)"
      ],
      "execution_count": null,
      "outputs": [
        {
          "output_type": "execute_result",
          "data": {
            "text/html": [
              "<div>\n",
              "<style scoped>\n",
              "    .dataframe tbody tr th:only-of-type {\n",
              "        vertical-align: middle;\n",
              "    }\n",
              "\n",
              "    .dataframe tbody tr th {\n",
              "        vertical-align: top;\n",
              "    }\n",
              "\n",
              "    .dataframe thead th {\n",
              "        text-align: right;\n",
              "    }\n",
              "</style>\n",
              "<table border=\"1\" class=\"dataframe\">\n",
              "  <thead>\n",
              "    <tr style=\"text-align: right;\">\n",
              "      <th></th>\n",
              "      <th>data</th>\n",
              "      <th>label</th>\n",
              "    </tr>\n",
              "  </thead>\n",
              "  <tbody>\n",
              "    <tr>\n",
              "      <th>4293</th>\n",
              "      <td>পলান সরকারের জন্ম নাম ছিল হারেজ উদ্দিন সরকার। ...</td>\n",
              "      <td>0</td>\n",
              "    </tr>\n",
              "    <tr>\n",
              "      <th>10814</th>\n",
              "      <td>উইকেট কি আনপ্লেয়বল দেখেছেন? কোহলিকে ফেবারিট বা...</td>\n",
              "      <td>0</td>\n",
              "    </tr>\n",
              "    <tr>\n",
              "      <th>8585</th>\n",
              "      <td>কেন্দ্রীয় ব্যাংককে সব ধরনের পদক্ষেপ নিতে হবে’ ...</td>\n",
              "      <td>1</td>\n",
              "    </tr>\n",
              "    <tr>\n",
              "      <th>10749</th>\n",
              "      <td>কী আদর্শ ক্রিকেটার জেন্টেলম্যান ছিলেন রমন লাম্...</td>\n",
              "      <td>0</td>\n",
              "    </tr>\n",
              "    <tr>\n",
              "      <th>752</th>\n",
              "      <td>বাংলাদেশ ব্যাংকের  তদন্ত রিপোর্টে কী আছে,জানতে...</td>\n",
              "      <td>0</td>\n",
              "    </tr>\n",
              "  </tbody>\n",
              "</table>\n",
              "</div>"
            ],
            "text/plain": [
              "                                                    data  label\n",
              "4293   পলান সরকারের জন্ম নাম ছিল হারেজ উদ্দিন সরকার। ...      0\n",
              "10814  উইকেট কি আনপ্লেয়বল দেখেছেন? কোহলিকে ফেবারিট বা...      0\n",
              "8585   কেন্দ্রীয় ব্যাংককে সব ধরনের পদক্ষেপ নিতে হবে’ ...      1\n",
              "10749  কী আদর্শ ক্রিকেটার জেন্টেলম্যান ছিলেন রমন লাম্...      0\n",
              "752    বাংলাদেশ ব্যাংকের  তদন্ত রিপোর্টে কী আছে,জানতে...      0"
            ]
          },
          "metadata": {},
          "execution_count": 54
        }
      ]
    },
    {
      "cell_type": "code",
      "metadata": {
        "id": "9fsC8lctOYGn"
      },
      "source": [
        ""
      ],
      "execution_count": null,
      "outputs": []
    },
    {
      "cell_type": "code",
      "metadata": {
        "id": "tQjR7CfYOh32"
      },
      "source": [
        ""
      ],
      "execution_count": null,
      "outputs": []
    },
    {
      "cell_type": "code",
      "metadata": {
        "id": "waezaxmWB_WD"
      },
      "source": [
        ""
      ],
      "execution_count": null,
      "outputs": []
    },
    {
      "cell_type": "code",
      "metadata": {
        "id": "u3TLr8sjBmr1"
      },
      "source": [
        "train_data = new_df.iloc[0:9661][:]\n",
        "\n"
      ],
      "execution_count": null,
      "outputs": []
    },
    {
      "cell_type": "code",
      "metadata": {
        "colab": {
          "base_uri": "https://localhost:8080/"
        },
        "id": "U2l0Kr5ZCcAg",
        "outputId": "1756a75e-138b-4e0c-abda-1d22ab4e3a56"
      },
      "source": [
        "train_data.shape"
      ],
      "execution_count": null,
      "outputs": [
        {
          "output_type": "execute_result",
          "data": {
            "text/plain": [
              "(9661, 2)"
            ]
          },
          "metadata": {},
          "execution_count": 60
        }
      ]
    },
    {
      "cell_type": "code",
      "metadata": {
        "id": "8xg-GS7XB2kL"
      },
      "source": [
        ""
      ],
      "execution_count": null,
      "outputs": []
    },
    {
      "cell_type": "code",
      "metadata": {
        "id": "XSCJXuGRGfck"
      },
      "source": [
        "test_data = new_df.iloc[9661:][:]"
      ],
      "execution_count": null,
      "outputs": []
    },
    {
      "cell_type": "code",
      "metadata": {
        "colab": {
          "base_uri": "https://localhost:8080/"
        },
        "id": "afkrWBdbJLDH",
        "outputId": "7b65110f-fa86-4881-f559-259f3820762f"
      },
      "source": [
        "test_data.shape"
      ],
      "execution_count": null,
      "outputs": [
        {
          "output_type": "execute_result",
          "data": {
            "text/plain": [
              "(4141, 2)"
            ]
          },
          "metadata": {},
          "execution_count": 62
        }
      ]
    },
    {
      "cell_type": "code",
      "metadata": {
        "id": "2WCVp04D8xo6"
      },
      "source": [
        ""
      ],
      "execution_count": null,
      "outputs": []
    },
    {
      "cell_type": "code",
      "metadata": {
        "id": "JBGt9bi_JOIN"
      },
      "source": [
        "list_content = train_data['data'].tolist()\n",
        "list_label = train_data['label'].astype(int).tolist()\n",
        "test_content = test_data['data'].tolist()\n",
        "test_label = test_data['label'].tolist()"
      ],
      "execution_count": null,
      "outputs": []
    },
    {
      "cell_type": "code",
      "metadata": {
        "id": "fcNEaozjJjfw"
      },
      "source": [
        "import re\n",
        "def rex(token):\n",
        "    return re.sub(\"([A-Za-z0-9_:.]+|[\\n]+|[\\xa0]+|শেয়ার করুন)\",\"\",token)\n",
        "list_content =[rex(token) for token in list_content]\n",
        "test_content = [rex(token) for token in test_content]"
      ],
      "execution_count": null,
      "outputs": []
    },
    {
      "cell_type": "code",
      "metadata": {
        "id": "fQslRyurQ5gA"
      },
      "source": [
        "from sklearn.model_selection import train_test_split"
      ],
      "execution_count": null,
      "outputs": []
    },
    {
      "cell_type": "code",
      "metadata": {
        "id": "iZIXDmczMeSu"
      },
      "source": [
        "training_sentences , testing_sentences, training_labels, testing_labels = train_test_split(list_content, list_label, test_size=0.20, random_state=42)"
      ],
      "execution_count": null,
      "outputs": []
    },
    {
      "cell_type": "code",
      "metadata": {
        "colab": {
          "base_uri": "https://localhost:8080/"
        },
        "id": "l8jgcPu7Mmss",
        "outputId": "b71e0219-88c3-479d-cf5b-175f4f4b5ccc"
      },
      "source": [
        "len(training_sentences)"
      ],
      "execution_count": null,
      "outputs": [
        {
          "output_type": "execute_result",
          "data": {
            "text/plain": [
              "7728"
            ]
          },
          "metadata": {},
          "execution_count": 68
        }
      ]
    },
    {
      "cell_type": "code",
      "metadata": {
        "id": "dX86ogASDxi0"
      },
      "source": [
        "\n"
      ],
      "execution_count": null,
      "outputs": []
    },
    {
      "cell_type": "code",
      "metadata": {
        "id": "Hwhnm-jCJ75s"
      },
      "source": [
        "import tensorflow as tf\n",
        "from tensorflow.keras.preprocessing.text import Tokenizer\n",
        "from tensorflow.keras.preprocessing.sequence import pad_sequences"
      ],
      "execution_count": null,
      "outputs": []
    },
    {
      "cell_type": "code",
      "metadata": {
        "id": "_UeQ1gXVKGB8"
      },
      "source": [
        "puncList = [\"।\", \"”\", \"“\", \"’\"]\n",
        "x= \"\".join(puncList)\n",
        "filterString = x + '!\"#$%&()*+,-./:;<=>?@[\\\\]^_`{|}~\\t\\n০১২৩৪৫৬৭৮৯'\n",
        "tokenizer = Tokenizer(oov_token='<OOV>',filters=filterString)\n",
        "tokenizer.fit_on_texts(list_content)"
      ],
      "execution_count": null,
      "outputs": []
    },
    {
      "cell_type": "code",
      "metadata": {
        "colab": {
          "base_uri": "https://localhost:8080/"
        },
        "id": "XdIUdZSKKLT0",
        "outputId": "d0481e66-3778-41c9-ddd9-378b2beeb28e"
      },
      "source": [
        "list(tokenizer.word_index.items())[:20]"
      ],
      "execution_count": null,
      "outputs": [
        {
          "output_type": "execute_result",
          "data": {
            "text/plain": [
              "[('<OOV>', 1),\n",
              " ('না', 2),\n",
              " ('করে', 3),\n",
              " ('আর', 4),\n",
              " ('কি', 5),\n",
              " ('এই', 6),\n",
              " ('হবে', 7),\n",
              " ('হয়', 8),\n",
              " ('টাকা', 9),\n",
              " ('করা', 10),\n",
              " ('জন্য', 11),\n",
              " ('থেকে', 12),\n",
              " ('ও', 13),\n",
              " ('যে', 14),\n",
              " ('কোন', 15),\n",
              " ('তো', 16),\n",
              " ('করতে', 17),\n",
              " ('আমাদের', 18),\n",
              " ('এর', 19),\n",
              " ('আছে', 20)]"
            ]
          },
          "metadata": {},
          "execution_count": 71
        }
      ]
    },
    {
      "cell_type": "code",
      "metadata": {
        "id": "rfyHJfkcKSQ-"
      },
      "source": [
        "vocab_size = len(tokenizer.word_index)+1"
      ],
      "execution_count": null,
      "outputs": []
    },
    {
      "cell_type": "code",
      "metadata": {
        "colab": {
          "base_uri": "https://localhost:8080/"
        },
        "id": "FjIaj28AKYQH",
        "outputId": "d2510b36-9cf5-4e6b-abb8-0c600928bc38"
      },
      "source": [
        "vocab_size"
      ],
      "execution_count": null,
      "outputs": [
        {
          "output_type": "execute_result",
          "data": {
            "text/plain": [
              "27200"
            ]
          },
          "metadata": {},
          "execution_count": 73
        }
      ]
    },
    {
      "cell_type": "code",
      "metadata": {
        "colab": {
          "base_uri": "https://localhost:8080/",
          "height": 35
        },
        "id": "zfx5aisLKcIc",
        "outputId": "e22bbcc0-2765-4507-e5ee-06943b35a31a"
      },
      "source": [
        "list_content[10]"
      ],
      "execution_count": null,
      "outputs": [
        {
          "output_type": "execute_result",
          "data": {
            "application/vnd.google.colaboratory.intrinsic+json": {
              "type": "string"
            },
            "text/plain": [
              "'এরা যেখানেই যাবে সেখানেই চুরি হবে।'"
            ]
          },
          "metadata": {},
          "execution_count": 74
        }
      ]
    },
    {
      "cell_type": "code",
      "metadata": {
        "id": "FnYkfj2aLVXp"
      },
      "source": [
        "max_length = 1000\n",
        "trunc_type = 'post'\n",
        "padding_type = 'post'\n",
        "training_sequences = tokenizer.texts_to_sequences(list_content)\n",
        "training_padded = pad_sequences(training_sequences, maxlen=max_length, padding=padding_type, truncating=trunc_type)\n",
        "\n",
        "testing_sequences= tokenizer.texts_to_sequences(test_content)\n",
        "testing_padded = pad_sequences(testing_sequences,maxlen=max_length , padding= padding_type , truncating= trunc_type)"
      ],
      "execution_count": null,
      "outputs": []
    },
    {
      "cell_type": "code",
      "metadata": {
        "colab": {
          "base_uri": "https://localhost:8080/"
        },
        "id": "drm6doYLMDjl",
        "outputId": "7963b91c-040d-4462-aa06-c2eba6bdb484"
      },
      "source": [
        "tokenizer.texts_to_sequences(['মানব সেবাই সবচেয়ে বড় ধর্ম'])"
      ],
      "execution_count": null,
      "outputs": [
        {
          "output_type": "execute_result",
          "data": {
            "text/plain": [
              "[[2031, 1, 209, 69, 1284]]"
            ]
          },
          "metadata": {},
          "execution_count": 76
        }
      ]
    },
    {
      "cell_type": "code",
      "metadata": {
        "colab": {
          "base_uri": "https://localhost:8080/"
        },
        "id": "GAllfwoHMGz2",
        "outputId": "80a94a8e-977d-4fde-c77d-c6d662b7d5f5"
      },
      "source": [
        "print(testing_padded[5])"
      ],
      "execution_count": null,
      "outputs": [
        {
          "output_type": "stream",
          "name": "stdout",
          "text": [
            "[  63 2017  223 1079 1404   77 2649   53 1740  312 2692    4   24    7\n",
            "    2    0    0    0    0    0    0    0    0    0    0    0    0    0\n",
            "    0    0    0    0    0    0    0    0    0    0    0    0    0    0\n",
            "    0    0    0    0    0    0    0    0    0    0    0    0    0    0\n",
            "    0    0    0    0    0    0    0    0    0    0    0    0    0    0\n",
            "    0    0    0    0    0    0    0    0    0    0    0    0    0    0\n",
            "    0    0    0    0    0    0    0    0    0    0    0    0    0    0\n",
            "    0    0    0    0    0    0    0    0    0    0    0    0    0    0\n",
            "    0    0    0    0    0    0    0    0    0    0    0    0    0    0\n",
            "    0    0    0    0    0    0    0    0    0    0    0    0    0    0\n",
            "    0    0    0    0    0    0    0    0    0    0    0    0    0    0\n",
            "    0    0    0    0    0    0    0    0    0    0    0    0    0    0\n",
            "    0    0    0    0    0    0    0    0    0    0    0    0    0    0\n",
            "    0    0    0    0    0    0    0    0    0    0    0    0    0    0\n",
            "    0    0    0    0    0    0    0    0    0    0    0    0    0    0\n",
            "    0    0    0    0    0    0    0    0    0    0    0    0    0    0\n",
            "    0    0    0    0    0    0    0    0    0    0    0    0    0    0\n",
            "    0    0    0    0    0    0    0    0    0    0    0    0    0    0\n",
            "    0    0    0    0    0    0    0    0    0    0    0    0    0    0\n",
            "    0    0    0    0    0    0    0    0    0    0    0    0    0    0\n",
            "    0    0    0    0    0    0    0    0    0    0    0    0    0    0\n",
            "    0    0    0    0    0    0    0    0    0    0    0    0    0    0\n",
            "    0    0    0    0    0    0    0    0    0    0    0    0    0    0\n",
            "    0    0    0    0    0    0    0    0    0    0    0    0    0    0\n",
            "    0    0    0    0    0    0    0    0    0    0    0    0    0    0\n",
            "    0    0    0    0    0    0    0    0    0    0    0    0    0    0\n",
            "    0    0    0    0    0    0    0    0    0    0    0    0    0    0\n",
            "    0    0    0    0    0    0    0    0    0    0    0    0    0    0\n",
            "    0    0    0    0    0    0    0    0    0    0    0    0    0    0\n",
            "    0    0    0    0    0    0    0    0    0    0    0    0    0    0\n",
            "    0    0    0    0    0    0    0    0    0    0    0    0    0    0\n",
            "    0    0    0    0    0    0    0    0    0    0    0    0    0    0\n",
            "    0    0    0    0    0    0    0    0    0    0    0    0    0    0\n",
            "    0    0    0    0    0    0    0    0    0    0    0    0    0    0\n",
            "    0    0    0    0    0    0    0    0    0    0    0    0    0    0\n",
            "    0    0    0    0    0    0    0    0    0    0    0    0    0    0\n",
            "    0    0    0    0    0    0    0    0    0    0    0    0    0    0\n",
            "    0    0    0    0    0    0    0    0    0    0    0    0    0    0\n",
            "    0    0    0    0    0    0    0    0    0    0    0    0    0    0\n",
            "    0    0    0    0    0    0    0    0    0    0    0    0    0    0\n",
            "    0    0    0    0    0    0    0    0    0    0    0    0    0    0\n",
            "    0    0    0    0    0    0    0    0    0    0    0    0    0    0\n",
            "    0    0    0    0    0    0    0    0    0    0    0    0    0    0\n",
            "    0    0    0    0    0    0    0    0    0    0    0    0    0    0\n",
            "    0    0    0    0    0    0    0    0    0    0    0    0    0    0\n",
            "    0    0    0    0    0    0    0    0    0    0    0    0    0    0\n",
            "    0    0    0    0    0    0    0    0    0    0    0    0    0    0\n",
            "    0    0    0    0    0    0    0    0    0    0    0    0    0    0\n",
            "    0    0    0    0    0    0    0    0    0    0    0    0    0    0\n",
            "    0    0    0    0    0    0    0    0    0    0    0    0    0    0\n",
            "    0    0    0    0    0    0    0    0    0    0    0    0    0    0\n",
            "    0    0    0    0    0    0    0    0    0    0    0    0    0    0\n",
            "    0    0    0    0    0    0    0    0    0    0    0    0    0    0\n",
            "    0    0    0    0    0    0    0    0    0    0    0    0    0    0\n",
            "    0    0    0    0    0    0    0    0    0    0    0    0    0    0\n",
            "    0    0    0    0    0    0    0    0    0    0    0    0    0    0\n",
            "    0    0    0    0    0    0    0    0    0    0    0    0    0    0\n",
            "    0    0    0    0    0    0    0    0    0    0    0    0    0    0\n",
            "    0    0    0    0    0    0    0    0    0    0    0    0    0    0\n",
            "    0    0    0    0    0    0    0    0    0    0    0    0    0    0\n",
            "    0    0    0    0    0    0    0    0    0    0    0    0    0    0\n",
            "    0    0    0    0    0    0    0    0    0    0    0    0    0    0\n",
            "    0    0    0    0    0    0    0    0    0    0    0    0    0    0\n",
            "    0    0    0    0    0    0    0    0    0    0    0    0    0    0\n",
            "    0    0    0    0    0    0    0    0    0    0    0    0    0    0\n",
            "    0    0    0    0    0    0    0    0    0    0    0    0    0    0\n",
            "    0    0    0    0    0    0    0    0    0    0    0    0    0    0\n",
            "    0    0    0    0    0    0    0    0    0    0    0    0    0    0\n",
            "    0    0    0    0    0    0    0    0    0    0    0    0    0    0\n",
            "    0    0    0    0    0    0    0    0    0    0    0    0    0    0\n",
            "    0    0    0    0    0    0    0    0    0    0    0    0    0    0\n",
            "    0    0    0    0    0    0]\n"
          ]
        }
      ]
    },
    {
      "cell_type": "code",
      "metadata": {
        "id": "F4IGhMm4Tzva"
      },
      "source": [
        "training_padded = np.array(training_padded)\n",
        "training_labels = np.array(list_label)\n",
        "testing_padded = np.array(testing_padded)\n",
        "testing_labels = np.array(test_label)"
      ],
      "execution_count": null,
      "outputs": []
    },
    {
      "cell_type": "code",
      "metadata": {
        "id": "otTVKJl5T4E-"
      },
      "source": [
        "embedding_dim = 50"
      ],
      "execution_count": null,
      "outputs": []
    },
    {
      "cell_type": "code",
      "metadata": {
        "colab": {
          "base_uri": "https://localhost:8080/"
        },
        "id": "o4T9hXwWT62n",
        "outputId": "b5baae76-8882-48c8-f9ab-512b53abc0a5"
      },
      "source": [
        "training_padded"
      ],
      "execution_count": null,
      "outputs": [
        {
          "output_type": "execute_result",
          "data": {
            "text/plain": [
              "array([[ 5952,    94,   304, ...,     0,     0,     0],\n",
              "       [   42,    34,    39, ...,     0,     0,     0],\n",
              "       [   18,    21,   509, ...,     0,     0,     0],\n",
              "       ...,\n",
              "       [ 1027,    18,  1967, ...,     0,     0,     0],\n",
              "       [   67,    78,  7050, ...,     0,     0,     0],\n",
              "       [27193,   154,  1545, ...,     0,     0,     0]], dtype=int32)"
            ]
          },
          "metadata": {},
          "execution_count": 80
        }
      ]
    },
    {
      "cell_type": "code",
      "metadata": {
        "id": "JYYn45YnT-WE"
      },
      "source": [
        "import tensorflow as tf\n",
        "from tensorflow.keras import Sequential\n",
        "from tensorflow.keras.layers import Embedding , Bidirectional,LSTM ,Dense , Dropout\n",
        "import keras\n",
        "from keras import backend as K"
      ],
      "execution_count": null,
      "outputs": []
    },
    {
      "cell_type": "code",
      "metadata": {
        "id": "CROhdhTfUaYb"
      },
      "source": [
        "model = Sequential(\n",
        "    [\n",
        "     Embedding(input_dim=vocab_size,output_dim= embedding_dim , input_length=max_length),\n",
        "     Bidirectional(LSTM(64,return_sequences=True)),\n",
        "     Bidirectional(LSTM(32)),\n",
        "     Dense(1, activation='sigmoid')\n",
        "    ]\n",
        ")"
      ],
      "execution_count": null,
      "outputs": []
    },
    {
      "cell_type": "code",
      "metadata": {
        "id": "FhQWv7lSUg0V"
      },
      "source": [
        "model_regularization = Sequential(\n",
        "    [\n",
        "     Embedding(input_dim=vocab_size,output_dim= embedding_dim , input_length=max_length),\n",
        "     Bidirectional(LSTM(64,return_sequences=True)),\n",
        "     Dropout(rate=.4),\n",
        "     Bidirectional(LSTM(32)),\n",
        "     Dropout(rate=.4),\n",
        "     Dense(1, activation='sigmoid')\n",
        "    ]\n",
        ")"
      ],
      "execution_count": null,
      "outputs": []
    },
    {
      "cell_type": "code",
      "metadata": {
        "id": "Itr--VJbVVvM"
      },
      "source": [
        "from keras.models import Sequential\n",
        "from keras import layers\n"
      ],
      "execution_count": null,
      "outputs": []
    },
    {
      "cell_type": "code",
      "metadata": {
        "id": "QPRDuIydVcD-"
      },
      "source": [
        "embedding_dim = 100\n",
        "\n",
        "model_cnn = Sequential()\n",
        "model_cnn.add(layers.Embedding(input_dim=vocab_size,output_dim= embedding_dim , input_length=max_length))\n",
        "model_cnn.add(layers.Conv1D(128, 5, activation='relu'))\n",
        "model_cnn.add(layers.GlobalMaxPooling1D())\n",
        "model_cnn.add(layers.Dense(10, activation='relu'))\n",
        "model_cnn.add(layers.Dense(1, activation='sigmoid'))"
      ],
      "execution_count": null,
      "outputs": []
    },
    {
      "cell_type": "markdown",
      "metadata": {
        "id": "6ELOPip8WNHT"
      },
      "source": [
        "**LSTM MODEL**"
      ]
    },
    {
      "cell_type": "code",
      "metadata": {
        "id": "A2gKKUMtWIdc"
      },
      "source": [
        ""
      ],
      "execution_count": null,
      "outputs": []
    },
    {
      "cell_type": "code",
      "metadata": {
        "id": "EaX4DGwDVdIH"
      },
      "source": [
        "model.compile(loss='binary_crossentropy' , optimizer= 'adam' , metrics= ['accuracy'])\n",
        "#model with regularixation\n",
        "model_regularization.compile(loss='binary_crossentropy' , optimizer= 'adam' , metrics= ['accuracy'])\n",
        "\n"
      ],
      "execution_count": null,
      "outputs": []
    },
    {
      "cell_type": "markdown",
      "metadata": {
        "id": "4jZPQtevWYYg"
      },
      "source": [
        "**CNN MODEL**"
      ]
    },
    {
      "cell_type": "code",
      "metadata": {
        "id": "7aOpUsv0WSk-"
      },
      "source": [
        "model_cnn.compile(optimizer='adam',\n",
        "              loss='binary_crossentropy',\n",
        "              metrics=['accuracy'])"
      ],
      "execution_count": null,
      "outputs": []
    },
    {
      "cell_type": "code",
      "metadata": {
        "colab": {
          "base_uri": "https://localhost:8080/"
        },
        "id": "HM21fPKeWdTj",
        "outputId": "c2b1d0c5-5643-4048-b8e8-e6eb52e4b410"
      },
      "source": [
        "model.summary()"
      ],
      "execution_count": null,
      "outputs": [
        {
          "output_type": "stream",
          "name": "stdout",
          "text": [
            "Model: \"sequential_3\"\n",
            "_________________________________________________________________\n",
            " Layer (type)                Output Shape              Param #   \n",
            "=================================================================\n",
            " embedding_3 (Embedding)     (None, 1000, 100)         2720000   \n",
            "                                                                 \n",
            " bidirectional_4 (Bidirectio  (None, 1000, 128)        84480     \n",
            " nal)                                                            \n",
            "                                                                 \n",
            " bidirectional_5 (Bidirectio  (None, 64)               41216     \n",
            " nal)                                                            \n",
            "                                                                 \n",
            " dense_4 (Dense)             (None, 1)                 65        \n",
            "                                                                 \n",
            "=================================================================\n",
            "Total params: 2,845,761\n",
            "Trainable params: 2,845,761\n",
            "Non-trainable params: 0\n",
            "_________________________________________________________________\n"
          ]
        }
      ]
    },
    {
      "cell_type": "code",
      "metadata": {
        "colab": {
          "base_uri": "https://localhost:8080/"
        },
        "id": "CQNp6PrAWlxn",
        "outputId": "37d24efa-b2a6-4fe3-c48b-17dde087020e"
      },
      "source": [
        "model_regularization.summary()"
      ],
      "execution_count": null,
      "outputs": [
        {
          "output_type": "stream",
          "name": "stdout",
          "text": [
            "Model: \"sequential_4\"\n",
            "_________________________________________________________________\n",
            " Layer (type)                Output Shape              Param #   \n",
            "=================================================================\n",
            " embedding_4 (Embedding)     (None, 1000, 100)         2720000   \n",
            "                                                                 \n",
            " bidirectional_6 (Bidirectio  (None, 1000, 128)        84480     \n",
            " nal)                                                            \n",
            "                                                                 \n",
            " dropout_2 (Dropout)         (None, 1000, 128)         0         \n",
            "                                                                 \n",
            " bidirectional_7 (Bidirectio  (None, 64)               41216     \n",
            " nal)                                                            \n",
            "                                                                 \n",
            " dropout_3 (Dropout)         (None, 64)                0         \n",
            "                                                                 \n",
            " dense_5 (Dense)             (None, 1)                 65        \n",
            "                                                                 \n",
            "=================================================================\n",
            "Total params: 2,845,761\n",
            "Trainable params: 2,845,761\n",
            "Non-trainable params: 0\n",
            "_________________________________________________________________\n"
          ]
        }
      ]
    },
    {
      "cell_type": "code",
      "metadata": {
        "colab": {
          "base_uri": "https://localhost:8080/"
        },
        "id": "cbH8AobGWrFm",
        "outputId": "15ea09dc-02cc-4786-eb52-e2b3bc9ceac8"
      },
      "source": [
        "model_cnn.summary()"
      ],
      "execution_count": null,
      "outputs": [
        {
          "output_type": "stream",
          "name": "stdout",
          "text": [
            "Model: \"sequential_5\"\n",
            "_________________________________________________________________\n",
            " Layer (type)                Output Shape              Param #   \n",
            "=================================================================\n",
            " embedding_5 (Embedding)     (None, 1000, 100)         2720000   \n",
            "                                                                 \n",
            " conv1d_1 (Conv1D)           (None, 996, 128)          64128     \n",
            "                                                                 \n",
            " global_max_pooling1d_1 (Glo  (None, 128)              0         \n",
            " balMaxPooling1D)                                                \n",
            "                                                                 \n",
            " dense_6 (Dense)             (None, 10)                1290      \n",
            "                                                                 \n",
            " dense_7 (Dense)             (None, 1)                 11        \n",
            "                                                                 \n",
            "=================================================================\n",
            "Total params: 2,785,429\n",
            "Trainable params: 2,785,429\n",
            "Non-trainable params: 0\n",
            "_________________________________________________________________\n"
          ]
        }
      ]
    },
    {
      "cell_type": "code",
      "metadata": {
        "id": "XvCbMvnOWvIi"
      },
      "source": [
        "tensorboard_callback = tf.keras.callbacks.TensorBoard(log_dir=\"logs\")"
      ],
      "execution_count": null,
      "outputs": []
    },
    {
      "cell_type": "code",
      "metadata": {
        "colab": {
          "base_uri": "https://localhost:8080/"
        },
        "id": "RZTNRqGRWzxe",
        "outputId": "b083821e-0e7c-4c52-b299-6051b5567bcb"
      },
      "source": [
        "num_epochs = 10\n",
        "history = model.fit(training_padded , training_labels , epochs= num_epochs,validation_data=(testing_padded , testing_labels), callbacks=[tensorboard_callback], verbose =2, class_weight= 0 )"
      ],
      "execution_count": null,
      "outputs": [
        {
          "output_type": "stream",
          "name": "stdout",
          "text": [
            "Epoch 1/10\n",
            "302/302 - 170s - loss: 0.6587 - accuracy: 0.6112 - val_loss: 0.7061 - val_accuracy: 0.5235 - 170s/epoch - 562ms/step\n",
            "Epoch 2/10\n",
            "302/302 - 168s - loss: 0.4561 - accuracy: 0.7939 - val_loss: 0.7681 - val_accuracy: 0.5895 - 168s/epoch - 556ms/step\n",
            "Epoch 3/10\n",
            "302/302 - 154s - loss: 0.2121 - accuracy: 0.9233 - val_loss: 1.0620 - val_accuracy: 0.5743 - 154s/epoch - 510ms/step\n",
            "Epoch 4/10\n",
            "302/302 - 168s - loss: 0.1141 - accuracy: 0.9624 - val_loss: 1.3149 - val_accuracy: 0.5709 - 168s/epoch - 556ms/step\n",
            "Epoch 5/10\n",
            "302/302 - 168s - loss: 0.0652 - accuracy: 0.9739 - val_loss: 1.6487 - val_accuracy: 0.5820 - 168s/epoch - 557ms/step\n",
            "Epoch 6/10\n",
            "302/302 - 168s - loss: 0.0353 - accuracy: 0.9815 - val_loss: 1.8188 - val_accuracy: 0.5796 - 168s/epoch - 557ms/step\n",
            "Epoch 7/10\n",
            "302/302 - 153s - loss: 0.0380 - accuracy: 0.9795 - val_loss: 2.0461 - val_accuracy: 0.5598 - 153s/epoch - 508ms/step\n",
            "Epoch 8/10\n",
            "302/302 - 168s - loss: 0.0303 - accuracy: 0.9829 - val_loss: 2.2053 - val_accuracy: 0.5726 - 168s/epoch - 555ms/step\n",
            "Epoch 9/10\n",
            "302/302 - 168s - loss: 0.0246 - accuracy: 0.9842 - val_loss: 2.5634 - val_accuracy: 0.5784 - 168s/epoch - 556ms/step\n",
            "Epoch 10/10\n",
            "302/302 - 168s - loss: 0.0202 - accuracy: 0.9868 - val_loss: 2.6008 - val_accuracy: 0.5757 - 168s/epoch - 556ms/step\n"
          ]
        }
      ]
    },
    {
      "cell_type": "code",
      "metadata": {
        "id": "9Dt99F0-dze8",
        "colab": {
          "base_uri": "https://localhost:8080/"
        },
        "outputId": "5f63aa33-981d-4184-fa49-6c866bf1b5bf"
      },
      "source": [
        "num_epoch = 10 \n",
        "history_cnn = model_cnn.fit(training_padded , training_labels , epochs= num_epochs,validation_data=(testing_padded , testing_labels), callbacks=[tensorboard_callback],verbose=2,class_weight=0)"
      ],
      "execution_count": null,
      "outputs": [
        {
          "output_type": "stream",
          "name": "stdout",
          "text": [
            "Epoch 1/10\n",
            "302/302 - 34s - loss: 0.6617 - accuracy: 0.6028 - val_loss: 0.6799 - val_accuracy: 0.5774 - 34s/epoch - 112ms/step\n",
            "Epoch 2/10\n",
            "302/302 - 7s - loss: 0.4552 - accuracy: 0.7983 - val_loss: 0.7444 - val_accuracy: 0.5861 - 7s/epoch - 24ms/step\n",
            "Epoch 3/10\n",
            "302/302 - 7s - loss: 0.1795 - accuracy: 0.9418 - val_loss: 0.9116 - val_accuracy: 0.5885 - 7s/epoch - 24ms/step\n",
            "Epoch 4/10\n",
            "302/302 - 7s - loss: 0.0912 - accuracy: 0.9758 - val_loss: 1.0024 - val_accuracy: 0.5793 - 7s/epoch - 24ms/step\n",
            "Epoch 5/10\n",
            "302/302 - 7s - loss: 0.0677 - accuracy: 0.9817 - val_loss: 0.9968 - val_accuracy: 0.5991 - 7s/epoch - 24ms/step\n",
            "Epoch 6/10\n",
            "302/302 - 7s - loss: 0.0610 - accuracy: 0.9825 - val_loss: 1.1074 - val_accuracy: 0.5813 - 7s/epoch - 23ms/step\n",
            "Epoch 7/10\n",
            "302/302 - 7s - loss: 0.0526 - accuracy: 0.9825 - val_loss: 1.0833 - val_accuracy: 0.5902 - 7s/epoch - 24ms/step\n",
            "Epoch 8/10\n",
            "302/302 - 7s - loss: 0.0487 - accuracy: 0.9843 - val_loss: 1.0926 - val_accuracy: 0.5965 - 7s/epoch - 23ms/step\n",
            "Epoch 9/10\n",
            "302/302 - 7s - loss: 0.0446 - accuracy: 0.9825 - val_loss: 1.0407 - val_accuracy: 0.5955 - 7s/epoch - 24ms/step\n",
            "Epoch 10/10\n",
            "302/302 - 7s - loss: 0.0400 - accuracy: 0.9836 - val_loss: 1.1074 - val_accuracy: 0.5945 - 7s/epoch - 23ms/step\n"
          ]
        }
      ]
    },
    {
      "cell_type": "code",
      "metadata": {
        "colab": {
          "base_uri": "https://localhost:8080/"
        },
        "id": "6uR4eLE6W-w4",
        "outputId": "0cffd3c7-efac-4fdc-efc9-e834e6dbccc7"
      },
      "source": [
        "num_epoch =10 \n",
        "history_dropout = model_regularization.fit(training_padded , training_labels , epochs= num_epochs,validation_data=(testing_padded , testing_labels), callbacks=[tensorboard_callback], verbose =2,class_weight=0 )\n"
      ],
      "execution_count": null,
      "outputs": [
        {
          "output_type": "stream",
          "name": "stdout",
          "text": [
            "Epoch 1/10\n",
            "302/302 - 164s - loss: 0.6633 - accuracy: 0.6072 - val_loss: 0.6878 - val_accuracy: 0.5462 - 164s/epoch - 544ms/step\n",
            "Epoch 2/10\n",
            "302/302 - 154s - loss: 0.4741 - accuracy: 0.7889 - val_loss: 0.8159 - val_accuracy: 0.5537 - 154s/epoch - 511ms/step\n",
            "Epoch 3/10\n",
            "302/302 - 168s - loss: 0.2379 - accuracy: 0.9145 - val_loss: 1.0233 - val_accuracy: 0.5735 - 168s/epoch - 557ms/step\n",
            "Epoch 4/10\n",
            "302/302 - 168s - loss: 0.1315 - accuracy: 0.9579 - val_loss: 1.2652 - val_accuracy: 0.5615 - 168s/epoch - 557ms/step\n",
            "Epoch 5/10\n",
            "302/302 - 154s - loss: 0.0859 - accuracy: 0.9725 - val_loss: 1.5325 - val_accuracy: 0.5747 - 154s/epoch - 509ms/step\n",
            "Epoch 6/10\n",
            "302/302 - 153s - loss: 0.0547 - accuracy: 0.9800 - val_loss: 1.7217 - val_accuracy: 0.5651 - 153s/epoch - 505ms/step\n",
            "Epoch 7/10\n",
            "302/302 - 168s - loss: 0.0379 - accuracy: 0.9828 - val_loss: 2.1309 - val_accuracy: 0.5757 - 168s/epoch - 556ms/step\n",
            "Epoch 8/10\n",
            "302/302 - 168s - loss: 0.0312 - accuracy: 0.9824 - val_loss: 2.2264 - val_accuracy: 0.5627 - 168s/epoch - 556ms/step\n",
            "Epoch 9/10\n",
            "302/302 - 168s - loss: 0.0328 - accuracy: 0.9826 - val_loss: 2.3995 - val_accuracy: 0.5704 - 168s/epoch - 557ms/step\n",
            "Epoch 10/10\n",
            "302/302 - 168s - loss: 0.0397 - accuracy: 0.9801 - val_loss: 2.1279 - val_accuracy: 0.5689 - 168s/epoch - 555ms/step\n"
          ]
        }
      ]
    },
    {
      "cell_type": "code",
      "metadata": {
        "colab": {
          "base_uri": "https://localhost:8080/"
        },
        "id": "947sLdjylAiC",
        "outputId": "c9644112-0330-44c2-d58c-51fd0028152d"
      },
      "source": [
        "num_epoch = 10 \n",
        "history_cnn = model_cnn.fit(training_padded , training_labels , epochs= num_epochs,validation_data=(testing_padded , testing_labels), callbacks=[tensorboard_callback],verbose=2,class_weight=0)"
      ],
      "execution_count": null,
      "outputs": [
        {
          "output_type": "stream",
          "name": "stdout",
          "text": [
            "Epoch 1/10\n",
            "302/302 - 7s - loss: 0.0396 - accuracy: 0.9841 - val_loss: 1.2783 - val_accuracy: 0.5694 - 7s/epoch - 23ms/step\n",
            "Epoch 2/10\n",
            "302/302 - 7s - loss: 0.0358 - accuracy: 0.9843 - val_loss: 1.1982 - val_accuracy: 0.5846 - 7s/epoch - 24ms/step\n",
            "Epoch 3/10\n",
            "302/302 - 7s - loss: 0.0337 - accuracy: 0.9834 - val_loss: 1.1774 - val_accuracy: 0.5897 - 7s/epoch - 23ms/step\n",
            "Epoch 4/10\n",
            "302/302 - 7s - loss: 0.0318 - accuracy: 0.9834 - val_loss: 1.1664 - val_accuracy: 0.5933 - 7s/epoch - 24ms/step\n",
            "Epoch 5/10\n",
            "302/302 - 7s - loss: 0.0306 - accuracy: 0.9831 - val_loss: 1.1125 - val_accuracy: 0.5938 - 7s/epoch - 23ms/step\n",
            "Epoch 6/10\n",
            "302/302 - 7s - loss: 0.0287 - accuracy: 0.9839 - val_loss: 1.2919 - val_accuracy: 0.6035 - 7s/epoch - 23ms/step\n",
            "Epoch 7/10\n",
            "302/302 - 7s - loss: 0.0283 - accuracy: 0.9845 - val_loss: 1.4848 - val_accuracy: 0.5607 - 7s/epoch - 23ms/step\n",
            "Epoch 8/10\n",
            "302/302 - 7s - loss: 0.0274 - accuracy: 0.9829 - val_loss: 1.2967 - val_accuracy: 0.5827 - 7s/epoch - 24ms/step\n",
            "Epoch 9/10\n",
            "302/302 - 7s - loss: 0.0254 - accuracy: 0.9831 - val_loss: 1.3912 - val_accuracy: 0.5784 - 7s/epoch - 24ms/step\n",
            "Epoch 10/10\n",
            "302/302 - 7s - loss: 0.0251 - accuracy: 0.9829 - val_loss: 1.3236 - val_accuracy: 0.5902 - 7s/epoch - 24ms/step\n"
          ]
        }
      ]
    },
    {
      "cell_type": "code",
      "metadata": {
        "colab": {
          "base_uri": "https://localhost:8080/",
          "height": 1000
        },
        "id": "KRZuu56qlbiw",
        "outputId": "96e3eafb-af40-49fb-b873-501222323661"
      },
      "source": [
        "import matplotlib.pyplot as plt\n",
        "\n",
        "def plot_graphs(history, string):\n",
        "  plt.plot(history.history[string])\n",
        "  plt.plot(history.history['val_'+string])\n",
        "  plt.xlabel(\"Epochs\")\n",
        "  plt.ylabel(string)\n",
        "  plt.legend([string, 'val_'+string])\n",
        "  plt.show()\n",
        "\n",
        "#plot for normal LSTM\n",
        "plot_graphs(history, \"accuracy\")\n",
        "plot_graphs(history, \"loss\")\n",
        "\n",
        "#plot for LSTM with dropout\n",
        "plot_graphs(history_dropout, \"accuracy\")\n",
        "plot_graphs(history_dropout, \"loss\")\n",
        "\n",
        "#plot for CNN\n",
        "plot_graphs(history_cnn, \"accuracy\")\n",
        "plot_graphs(history_cnn, \"loss\")\n"
      ],
      "execution_count": null,
      "outputs": [
        {
          "output_type": "display_data",
          "data": {
            "image/png": "[encoded data removed]",
            "text/plain": [
              "<Figure size 432x288 with 1 Axes>"
            ]
          },
          "metadata": {
            "needs_background": "light"
          }
        },
        {
          "output_type": "display_data",
          "data": {
            "image/png": "[encoded data removed]",
            "text/plain": [
              "<Figure size 432x288 with 1 Axes>"
            ]
          },
          "metadata": {
            "needs_background": "light"
          }
        },
        {
          "output_type": "display_data",
          "data": {
            "image/png": "[encoded data removed]",
            "text/plain": [
              "<Figure size 432x288 with 1 Axes>"
            ]
          },
          "metadata": {
            "needs_background": "light"
          }
        },
        {
          "output_type": "display_data",
          "data": {
            "image/png": "[encoded data removed]",
            "text/plain": [
              "<Figure size 432x288 with 1 Axes>"
            ]
          },
          "metadata": {
            "needs_background": "light"
          }
        },
        {
          "output_type": "display_data",
          "data": {
            "image/png": "[encoded data removed]",
            "text/plain": [
              "<Figure size 432x288 with 1 Axes>"
            ]
          },
          "metadata": {
            "needs_background": "light"
          }
        },
        {
          "output_type": "display_data",
          "data": {
            "image/png": "[encoded data removed]",
            "text/plain": [
              "<Figure size 432x288 with 1 Axes>"
            ]
          },
          "metadata": {
            "needs_background": "light"
          }
        }
      ]
    },
    {
      "cell_type": "code",
      "metadata": {
        "id": "l0iEtSjFmBrH"
      },
      "source": [
        "def focal_loss(y_true, y_pred):\n",
        "\n",
        "  gamma= 2.0\n",
        "  alpha = 0.25\n",
        "  pt_1 = tf.where(tf.equal(y_true, 1), y_pred, tf.ones_like(y_pred))\n",
        "  pt_0 = tf.where(tf.equal(y_true, 0), y_pred, tf.zeros_like(y_pred))\n",
        "  return -K.sum(alpha * K.pow(1. - pt_1, gamma) * K.log(pt_1))-K.sum((1-alpha) * K.pow( pt_0, gamma) * K.log(1. - pt_0))"
      ],
      "execution_count": null,
      "outputs": []
    },
    {
      "cell_type": "code",
      "metadata": {
        "id": "Ah_o0DBBmNKv"
      },
      "source": [
        "METRICS = [\n",
        "      keras.metrics.TruePositives(name='tp'),\n",
        "      keras.metrics.FalsePositives(name='fp'),\n",
        "      keras.metrics.TrueNegatives(name='tn'),\n",
        "      keras.metrics.FalseNegatives(name='fn'), \n",
        "      keras.metrics.BinaryAccuracy(name='accuracy'),\n",
        "      keras.metrics.Precision(name='precision'),\n",
        "      keras.metrics.Recall(name='recall'),\n",
        "      keras.metrics.AUC(name='auc'),\n",
        "]\n",
        "\n",
        "model.compile(loss='binary_crossentropy' , optimizer= 'adam' , metrics= METRICS)\n",
        "model_regularization.compile(loss='binary_crossentropy' , optimizer= 'adam' , metrics= METRICS)\n",
        "model_cnn.compile(loss='binary_crossentropy' , optimizer= 'adam' , metrics= METRICS)"
      ],
      "execution_count": null,
      "outputs": []
    },
    {
      "cell_type": "code",
      "metadata": {
        "colab": {
          "base_uri": "https://localhost:8080/"
        },
        "id": "_cmwyufBmSzi",
        "outputId": "f9f531c3-35e2-40ce-e030-57900c1a6835"
      },
      "source": [
        "num_epochs = 10\n",
        "weighted_history = model.fit(training_padded , training_labels , epochs= num_epochs,validation_data=(testing_padded , testing_labels), callbacks=[tensorboard_callback],verbose=2,class_weight=0)"
      ],
      "execution_count": null,
      "outputs": [
        {
          "output_type": "stream",
          "name": "stdout",
          "text": [
            "Epoch 1/10\n",
            "302/302 - 167s - loss: 0.0340 - tp: 5361.0000 - fp: 99.0000 - tn: 4132.0000 - fn: 69.0000 - accuracy: 0.9826 - precision: 0.9819 - recall: 0.9873 - auc: 0.9985 - val_loss: 2.4149 - val_tp: 1058.0000 - val_fp: 1195.0000 - val_tn: 1250.0000 - val_fn: 638.0000 - val_accuracy: 0.5574 - val_precision: 0.4696 - val_recall: 0.6238 - val_auc: 0.5858 - 167s/epoch - 555ms/step\n",
            "Epoch 2/10\n",
            "302/302 - 170s - loss: 0.0296 - tp: 5329.0000 - fp: 58.0000 - tn: 4173.0000 - fn: 101.0000 - accuracy: 0.9835 - precision: 0.9892 - recall: 0.9814 - auc: 0.9990 - val_loss: 2.0902 - val_tp: 904.0000 - val_fp: 983.0000 - val_tn: 1462.0000 - val_fn: 792.0000 - val_accuracy: 0.5714 - val_precision: 0.4791 - val_recall: 0.5330 - val_auc: 0.5879 - 170s/epoch - 562ms/step\n",
            "Epoch 3/10\n",
            "302/302 - 155s - loss: 0.0286 - tp: 5366.0000 - fp: 98.0000 - tn: 4133.0000 - fn: 64.0000 - accuracy: 0.9832 - precision: 0.9821 - recall: 0.9882 - auc: 0.9987 - val_loss: 2.1861 - val_tp: 961.0000 - val_fp: 1062.0000 - val_tn: 1383.0000 - val_fn: 735.0000 - val_accuracy: 0.5660 - val_precision: 0.4750 - val_recall: 0.5666 - val_auc: 0.5880 - 155s/epoch - 514ms/step\n",
            "Epoch 4/10\n",
            "302/302 - 169s - loss: 0.0230 - tp: 5359.0000 - fp: 64.0000 - tn: 4167.0000 - fn: 71.0000 - accuracy: 0.9860 - precision: 0.9882 - recall: 0.9869 - auc: 0.9992 - val_loss: 2.2625 - val_tp: 953.0000 - val_fp: 1035.0000 - val_tn: 1410.0000 - val_fn: 743.0000 - val_accuracy: 0.5706 - val_precision: 0.4794 - val_recall: 0.5619 - val_auc: 0.5874 - 169s/epoch - 559ms/step\n",
            "Epoch 5/10\n",
            "302/302 - 169s - loss: 0.0188 - tp: 5363.0000 - fp: 79.0000 - tn: 4152.0000 - fn: 67.0000 - accuracy: 0.9849 - precision: 0.9855 - recall: 0.9877 - auc: 0.9995 - val_loss: 2.6072 - val_tp: 1018.0000 - val_fp: 1136.0000 - val_tn: 1309.0000 - val_fn: 678.0000 - val_accuracy: 0.5619 - val_precision: 0.4726 - val_recall: 0.6002 - val_auc: 0.5873 - 169s/epoch - 559ms/step\n",
            "Epoch 6/10\n",
            "302/302 - 169s - loss: 0.0176 - tp: 5340.0000 - fp: 38.0000 - tn: 4193.0000 - fn: 90.0000 - accuracy: 0.9868 - precision: 0.9929 - recall: 0.9834 - auc: 0.9996 - val_loss: 2.8199 - val_tp: 1010.0000 - val_fp: 1111.0000 - val_tn: 1334.0000 - val_fn: 686.0000 - val_accuracy: 0.5660 - val_precision: 0.4762 - val_recall: 0.5955 - val_auc: 0.5864 - 169s/epoch - 559ms/step\n",
            "Epoch 7/10\n",
            "302/302 - 168s - loss: 0.0177 - tp: 5410.0000 - fp: 104.0000 - tn: 4127.0000 - fn: 20.0000 - accuracy: 0.9872 - precision: 0.9811 - recall: 0.9963 - auc: 0.9996 - val_loss: 2.9594 - val_tp: 1054.0000 - val_fp: 1195.0000 - val_tn: 1250.0000 - val_fn: 642.0000 - val_accuracy: 0.5564 - val_precision: 0.4687 - val_recall: 0.6215 - val_auc: 0.5853 - 168s/epoch - 558ms/step\n",
            "Epoch 8/10\n",
            "302/302 - 169s - loss: 0.0179 - tp: 5344.0000 - fp: 48.0000 - tn: 4183.0000 - fn: 86.0000 - accuracy: 0.9861 - precision: 0.9911 - recall: 0.9842 - auc: 0.9996 - val_loss: 2.9626 - val_tp: 939.0000 - val_fp: 1000.0000 - val_tn: 1445.0000 - val_fn: 757.0000 - val_accuracy: 0.5757 - val_precision: 0.4843 - val_recall: 0.5537 - val_auc: 0.5835 - 169s/epoch - 560ms/step\n",
            "Epoch 9/10\n",
            "302/302 - 169s - loss: 0.0313 - tp: 5352.0000 - fp: 101.0000 - tn: 4130.0000 - fn: 78.0000 - accuracy: 0.9815 - precision: 0.9815 - recall: 0.9856 - auc: 0.9987 - val_loss: 2.4975 - val_tp: 1043.0000 - val_fp: 1170.0000 - val_tn: 1275.0000 - val_fn: 653.0000 - val_accuracy: 0.5598 - val_precision: 0.4713 - val_recall: 0.6150 - val_auc: 0.5871 - 169s/epoch - 561ms/step\n",
            "Epoch 10/10\n",
            "302/302 - 169s - loss: 0.0253 - tp: 5356.0000 - fp: 91.0000 - tn: 4140.0000 - fn: 74.0000 - accuracy: 0.9829 - precision: 0.9833 - recall: 0.9864 - auc: 0.9991 - val_loss: 2.2630 - val_tp: 889.0000 - val_fp: 949.0000 - val_tn: 1496.0000 - val_fn: 807.0000 - val_accuracy: 0.5759 - val_precision: 0.4837 - val_recall: 0.5242 - val_auc: 0.5901 - 169s/epoch - 561ms/step\n"
          ]
        }
      ]
    },
    {
      "cell_type": "code",
      "metadata": {
        "colab": {
          "base_uri": "https://localhost:8080/"
        },
        "id": "ecKDJ2Memhog",
        "outputId": "fc59555a-5c44-4d18-b8cc-7edfc9d074d8"
      },
      "source": [
        "num_epochs = 10\n",
        "weighted_history_dropout = model_regularization.fit(training_padded , training_labels , epochs= num_epochs,validation_data=(testing_padded , testing_labels), callbacks=[tensorboard_callback],verbose=2,class_weight=0)"
      ],
      "execution_count": null,
      "outputs": [
        {
          "output_type": "stream",
          "name": "stdout",
          "text": [
            "Epoch 1/10\n",
            "302/302 - 181s - loss: 0.0351 - tp: 6227.0000 - fp: 1042.0000 - tn: 5634.0000 - fn: 899.0000 - accuracy: 0.8594 - precision: 0.8567 - recall: 0.8738 - auc: 0.9068 - val_loss: 2.4450 - val_tp: 1072.0000 - val_fp: 1223.0000 - val_tn: 1222.0000 - val_fn: 624.0000 - val_accuracy: 0.5540 - val_precision: 0.4671 - val_recall: 0.6321 - val_auc: 0.5848 - 181s/epoch - 599ms/step\n",
            "Epoch 2/10\n",
            "302/302 - 170s - loss: 0.0275 - tp: 5348.0000 - fp: 59.0000 - tn: 4172.0000 - fn: 82.0000 - accuracy: 0.9854 - precision: 0.9891 - recall: 0.9849 - auc: 0.9992 - val_loss: 2.3891 - val_tp: 984.0000 - val_fp: 1060.0000 - val_tn: 1385.0000 - val_fn: 712.0000 - val_accuracy: 0.5721 - val_precision: 0.4814 - val_recall: 0.5802 - val_auc: 0.5863 - 170s/epoch - 562ms/step\n",
            "Epoch 3/10\n",
            "302/302 - 170s - loss: 0.0278 - tp: 5342.0000 - fp: 68.0000 - tn: 4163.0000 - fn: 88.0000 - accuracy: 0.9839 - precision: 0.9874 - recall: 0.9838 - auc: 0.9989 - val_loss: 2.0828 - val_tp: 1002.0000 - val_fp: 1122.0000 - val_tn: 1323.0000 - val_fn: 694.0000 - val_accuracy: 0.5615 - val_precision: 0.4718 - val_recall: 0.5908 - val_auc: 0.5868 - 170s/epoch - 563ms/step\n",
            "Epoch 4/10\n",
            "302/302 - 170s - loss: 0.0274 - tp: 5352.0000 - fp: 70.0000 - tn: 4161.0000 - fn: 78.0000 - accuracy: 0.9847 - precision: 0.9871 - recall: 0.9856 - auc: 0.9993 - val_loss: 2.0514 - val_tp: 940.0000 - val_fp: 1050.0000 - val_tn: 1395.0000 - val_fn: 756.0000 - val_accuracy: 0.5639 - val_precision: 0.4724 - val_recall: 0.5542 - val_auc: 0.5765 - 170s/epoch - 563ms/step\n",
            "Epoch 5/10\n",
            "302/302 - 170s - loss: 0.0216 - tp: 5350.0000 - fp: 52.0000 - tn: 4179.0000 - fn: 80.0000 - accuracy: 0.9863 - precision: 0.9904 - recall: 0.9853 - auc: 0.9994 - val_loss: 2.5653 - val_tp: 957.0000 - val_fp: 1066.0000 - val_tn: 1379.0000 - val_fn: 739.0000 - val_accuracy: 0.5641 - val_precision: 0.4731 - val_recall: 0.5643 - val_auc: 0.5785 - 170s/epoch - 562ms/step\n",
            "Epoch 6/10\n",
            "302/302 - 170s - loss: 0.0191 - tp: 5383.0000 - fp: 94.0000 - tn: 4137.0000 - fn: 47.0000 - accuracy: 0.9854 - precision: 0.9828 - recall: 0.9913 - auc: 0.9996 - val_loss: 2.7973 - val_tp: 971.0000 - val_fp: 1084.0000 - val_tn: 1361.0000 - val_fn: 725.0000 - val_accuracy: 0.5631 - val_precision: 0.4725 - val_recall: 0.5725 - val_auc: 0.5870 - 170s/epoch - 562ms/step\n",
            "Epoch 7/10\n",
            "302/302 - 170s - loss: 0.0181 - tp: 5359.0000 - fp: 64.0000 - tn: 4167.0000 - fn: 71.0000 - accuracy: 0.9860 - precision: 0.9882 - recall: 0.9869 - auc: 0.9996 - val_loss: 2.9127 - val_tp: 1015.0000 - val_fp: 1130.0000 - val_tn: 1315.0000 - val_fn: 681.0000 - val_accuracy: 0.5627 - val_precision: 0.4732 - val_recall: 0.5985 - val_auc: 0.5835 - 170s/epoch - 562ms/step\n",
            "Epoch 8/10\n",
            "302/302 - 170s - loss: 0.0190 - tp: 5373.0000 - fp: 89.0000 - tn: 4142.0000 - fn: 57.0000 - accuracy: 0.9849 - precision: 0.9837 - recall: 0.9895 - auc: 0.9995 - val_loss: 3.1750 - val_tp: 1059.0000 - val_fp: 1208.0000 - val_tn: 1237.0000 - val_fn: 637.0000 - val_accuracy: 0.5545 - val_precision: 0.4671 - val_recall: 0.6244 - val_auc: 0.5851 - 170s/epoch - 562ms/step\n",
            "Epoch 9/10\n",
            "302/302 - 155s - loss: 0.0260 - tp: 5363.0000 - fp: 75.0000 - tn: 4156.0000 - fn: 67.0000 - accuracy: 0.9853 - precision: 0.9862 - recall: 0.9877 - auc: 0.9990 - val_loss: 2.7282 - val_tp: 882.0000 - val_fp: 955.0000 - val_tn: 1490.0000 - val_fn: 814.0000 - val_accuracy: 0.5728 - val_precision: 0.4801 - val_recall: 0.5200 - val_auc: 0.5794 - 155s/epoch - 512ms/step\n",
            "Epoch 10/10\n",
            "302/302 - 169s - loss: 0.0272 - tp: 5335.0000 - fp: 55.0000 - tn: 4176.0000 - fn: 95.0000 - accuracy: 0.9845 - precision: 0.9898 - recall: 0.9825 - auc: 0.9993 - val_loss: 2.6147 - val_tp: 876.0000 - val_fp: 955.0000 - val_tn: 1490.0000 - val_fn: 820.0000 - val_accuracy: 0.5714 - val_precision: 0.4784 - val_recall: 0.5165 - val_auc: 0.5745 - 169s/epoch - 560ms/step\n"
          ]
        }
      ]
    },
    {
      "cell_type": "code",
      "metadata": {
        "colab": {
          "base_uri": "https://localhost:8080/"
        },
        "id": "Tc00AffmtO9I",
        "outputId": "738d9924-0bbf-44a3-ed38-dc71bf644e4d"
      },
      "source": [
        "num_epochs = 10\n",
        "weighted_history_cnn = model_regularization.fit(training_padded , training_labels , epochs= num_epochs,validation_data=(testing_padded , testing_labels), callbacks=[tensorboard_callback],verbose=2,class_weight=0)"
      ],
      "execution_count": null,
      "outputs": [
        {
          "output_type": "stream",
          "name": "stdout",
          "text": [
            "Epoch 1/10\n",
            "302/302 - 170s - loss: 0.0286 - tp: 5367.0000 - fp: 89.0000 - tn: 4142.0000 - fn: 63.0000 - accuracy: 0.9843 - precision: 0.9837 - recall: 0.9884 - auc: 0.9991 - val_loss: 2.2844 - val_tp: 957.0000 - val_fp: 1069.0000 - val_tn: 1376.0000 - val_fn: 739.0000 - val_accuracy: 0.5634 - val_precision: 0.4724 - val_recall: 0.5643 - val_auc: 0.5850 - 170s/epoch - 563ms/step\n",
            "Epoch 2/10\n",
            "302/302 - 169s - loss: 0.0223 - tp: 5335.0000 - fp: 40.0000 - tn: 4191.0000 - fn: 95.0000 - accuracy: 0.9860 - precision: 0.9926 - recall: 0.9825 - auc: 0.9996 - val_loss: 2.5985 - val_tp: 1065.0000 - val_fp: 1195.0000 - val_tn: 1250.0000 - val_fn: 631.0000 - val_accuracy: 0.5590 - val_precision: 0.4712 - val_recall: 0.6279 - val_auc: 0.5845 - 169s/epoch - 559ms/step\n",
            "Epoch 3/10\n",
            "302/302 - 169s - loss: 0.0184 - tp: 5377.0000 - fp: 66.0000 - tn: 4165.0000 - fn: 53.0000 - accuracy: 0.9877 - precision: 0.9879 - recall: 0.9902 - auc: 0.9997 - val_loss: 2.8323 - val_tp: 993.0000 - val_fp: 1085.0000 - val_tn: 1360.0000 - val_fn: 703.0000 - val_accuracy: 0.5682 - val_precision: 0.4779 - val_recall: 0.5855 - val_auc: 0.5856 - 169s/epoch - 560ms/step\n",
            "Epoch 4/10\n",
            "302/302 - 169s - loss: 0.0173 - tp: 5364.0000 - fp: 52.0000 - tn: 4179.0000 - fn: 66.0000 - accuracy: 0.9878 - precision: 0.9904 - recall: 0.9878 - auc: 0.9997 - val_loss: 2.9966 - val_tp: 997.0000 - val_fp: 1096.0000 - val_tn: 1349.0000 - val_fn: 699.0000 - val_accuracy: 0.5665 - val_precision: 0.4763 - val_recall: 0.5879 - val_auc: 0.5856 - 169s/epoch - 559ms/step\n",
            "Epoch 5/10\n",
            "302/302 - 169s - loss: 0.0187 - tp: 5374.0000 - fp: 61.0000 - tn: 4170.0000 - fn: 56.0000 - accuracy: 0.9879 - precision: 0.9888 - recall: 0.9897 - auc: 0.9996 - val_loss: 3.0236 - val_tp: 954.0000 - val_fp: 1046.0000 - val_tn: 1399.0000 - val_fn: 742.0000 - val_accuracy: 0.5682 - val_precision: 0.4770 - val_recall: 0.5625 - val_auc: 0.5857 - 169s/epoch - 560ms/step\n",
            "Epoch 6/10\n",
            "302/302 - 154s - loss: 0.0190 - tp: 5367.0000 - fp: 69.0000 - tn: 4162.0000 - fn: 63.0000 - accuracy: 0.9863 - precision: 0.9873 - recall: 0.9884 - auc: 0.9995 - val_loss: 2.9229 - val_tp: 975.0000 - val_fp: 1090.0000 - val_tn: 1355.0000 - val_fn: 721.0000 - val_accuracy: 0.5627 - val_precision: 0.4722 - val_recall: 0.5749 - val_auc: 0.5808 - 154s/epoch - 509ms/step\n",
            "Epoch 7/10\n",
            "302/302 - 169s - loss: 0.0200 - tp: 5377.0000 - fp: 72.0000 - tn: 4159.0000 - fn: 53.0000 - accuracy: 0.9871 - precision: 0.9868 - recall: 0.9902 - auc: 0.9993 - val_loss: 2.8740 - val_tp: 979.0000 - val_fp: 1081.0000 - val_tn: 1364.0000 - val_fn: 717.0000 - val_accuracy: 0.5658 - val_precision: 0.4752 - val_recall: 0.5772 - val_auc: 0.5822 - 169s/epoch - 558ms/step\n",
            "Epoch 8/10\n",
            "302/302 - 153s - loss: 0.0184 - tp: 5362.0000 - fp: 73.0000 - tn: 4158.0000 - fn: 68.0000 - accuracy: 0.9854 - precision: 0.9866 - recall: 0.9875 - auc: 0.9996 - val_loss: 3.0931 - val_tp: 1117.0000 - val_fp: 1255.0000 - val_tn: 1190.0000 - val_fn: 579.0000 - val_accuracy: 0.5571 - val_precision: 0.4709 - val_recall: 0.6586 - val_auc: 0.5852 - 153s/epoch - 507ms/step\n",
            "Epoch 9/10\n",
            "302/302 - 153s - loss: 0.0177 - tp: 5389.0000 - fp: 81.0000 - tn: 4150.0000 - fn: 41.0000 - accuracy: 0.9874 - precision: 0.9852 - recall: 0.9924 - auc: 0.9996 - val_loss: 3.0981 - val_tp: 1069.0000 - val_fp: 1203.0000 - val_tn: 1242.0000 - val_fn: 627.0000 - val_accuracy: 0.5581 - val_precision: 0.4705 - val_recall: 0.6303 - val_auc: 0.5860 - 153s/epoch - 507ms/step\n",
            "Epoch 10/10\n",
            "302/302 - 169s - loss: 0.0186 - tp: 5334.0000 - fp: 22.0000 - tn: 4209.0000 - fn: 96.0000 - accuracy: 0.9878 - precision: 0.9959 - recall: 0.9823 - auc: 0.9997 - val_loss: 3.0320 - val_tp: 889.0000 - val_fp: 963.0000 - val_tn: 1482.0000 - val_fn: 807.0000 - val_accuracy: 0.5726 - val_precision: 0.4800 - val_recall: 0.5242 - val_auc: 0.5803 - 169s/epoch - 559ms/step\n"
          ]
        }
      ]
    },
    {
      "cell_type": "code",
      "metadata": {
        "id": "LGR0juBTz5xR"
      },
      "source": [
        "import matplotlib as mpl\n",
        "import matplotlib.pyplot as plt\n",
        "import numpy as np\n",
        "import pandas as pd\n",
        "import seaborn as sns\n",
        "\n",
        "import sklearn\n",
        "from sklearn.metrics import confusion_matrix\n",
        "from sklearn.model_selection import train_test_split\n",
        "from sklearn.preprocessing import StandardScaler"
      ],
      "execution_count": null,
      "outputs": []
    },
    {
      "cell_type": "code",
      "metadata": {
        "id": "bb7PfRTq6Z1g"
      },
      "source": [
        "mpl.rcParams['figure.figsize'] = (12, 10)\n",
        "colors = plt.rcParams['axes.prop_cycle'].by_key()['color']"
      ],
      "execution_count": null,
      "outputs": []
    },
    {
      "cell_type": "code",
      "metadata": {
        "id": "vFyq78Lw6emY"
      },
      "source": [
        "def plot_metrics(history):\n",
        "  metrics = ['loss', 'auc', 'precision', 'recall']\n",
        "  for n, metric in enumerate(metrics):\n",
        "    name = metric.replace(\"_\",\" \").capitalize()\n",
        "    plt.subplot(2,2,n+1)\n",
        "    plt.plot(history.epoch, history.history[metric], color=colors[0], label='Train')\n",
        "    plt.plot(history.epoch, history.history['val_'+metric],\n",
        "             color=colors[0], linestyle=\"--\", label='Val')\n",
        "    plt.xlabel('Epoch')\n",
        "    plt.ylabel(name)\n",
        "    if metric == 'loss':\n",
        "      plt.ylim([0, plt.ylim()[1]])\n",
        "    elif metric == 'auc':\n",
        "      plt.ylim([0.8,1])\n",
        "    else:\n",
        "      plt.ylim([0,1])\n",
        "\n",
        "    plt.legend()"
      ],
      "execution_count": null,
      "outputs": []
    },
    {
      "cell_type": "code",
      "metadata": {
        "id": "iWwaIxU96jR4"
      },
      "source": [
        "def plot_cm(labels, predictions, p=0.5):\n",
        "  cm = confusion_matrix(labels, predictions > p)\n",
        "  plt.figure(figsize=(5,5))\n",
        "  sns.heatmap(cm, annot=True, fmt=\"d\")\n",
        "  plt.title('Confusion matrix @{:.2f}'.format(p))\n",
        "  plt.ylabel('Actual label')\n",
        "  plt.xlabel('Predicted label')\n",
        "\n",
        "  print(' (True Negatives): ', cm[0][0])\n",
        "  print(' (False Positives): ', cm[0][1])\n",
        "  print('(False Negatives): ', cm[1][0])\n",
        "  print('(True Positives): ', cm[1][1])\n",
        "  print('Total : ', np.sum(cm[1]))"
      ],
      "execution_count": null,
      "outputs": []
    },
    {
      "cell_type": "code",
      "metadata": {
        "colab": {
          "base_uri": "https://localhost:8080/",
          "height": 609
        },
        "id": "i99FnTg46oWQ",
        "outputId": "d90c4021-7a6a-4490-91f7-bfde31f92fb9"
      },
      "source": [
        "#plot for LSTM\n",
        "plot_metrics(weighted_history)"
      ],
      "execution_count": null,
      "outputs": [
        {
          "output_type": "display_data",
          "data": {
            "image/png": "[encoded data removed]",
            "text/plain": [
              "<Figure size 864x720 with 4 Axes>"
            ]
          },
          "metadata": {
            "needs_background": "light"
          }
        }
      ]
    },
    {
      "cell_type": "code",
      "metadata": {
        "colab": {
          "base_uri": "https://localhost:8080/",
          "height": 609
        },
        "id": "nDuN4vmi6sVR",
        "outputId": "7ffe115a-778d-416c-c27b-ebd4526cd692"
      },
      "source": [
        "#plot for LSTM (with Dropout)\n",
        "plot_metrics(weighted_history_dropout)"
      ],
      "execution_count": null,
      "outputs": [
        {
          "output_type": "display_data",
          "data": {
            "image/png": "[encoded data removed]",
            "text/plain": [
              "<Figure size 864x720 with 4 Axes>"
            ]
          },
          "metadata": {
            "needs_background": "light"
          }
        }
      ]
    },
    {
      "cell_type": "code",
      "metadata": {
        "colab": {
          "base_uri": "https://localhost:8080/",
          "height": 609
        },
        "id": "Pb1d_DB061Kd",
        "outputId": "d59b5b38-27d7-43d3-8668-4592e6b532bc"
      },
      "source": [
        "plot_metrics(weighted_history_cnn)"
      ],
      "execution_count": null,
      "outputs": [
        {
          "output_type": "display_data",
          "data": {
            "image/png": "[encoded data removed]",
            "text/plain": [
              "<Figure size 864x720 with 4 Axes>"
            ]
          },
          "metadata": {
            "needs_background": "light"
          }
        }
      ]
    },
    {
      "cell_type": "code",
      "metadata": {
        "colab": {
          "base_uri": "https://localhost:8080/",
          "height": 610
        },
        "id": "0IrYA0Qq6_X5",
        "outputId": "a97b407f-f246-40fa-935c-306a7e632923"
      },
      "source": [
        "# for LSTM\n",
        "test_predictions_baseline = model.predict(testing_padded, batch_size=1000)\n",
        "\n",
        "baseline_results = model.evaluate(testing_padded , testing_labels,\n",
        "                                  batch_size=1000, verbose=0)\n",
        "for name, value in zip(model.metrics_names, baseline_results):\n",
        "  print(name, ': ', value)\n",
        "print()\n",
        "\n",
        "plot_cm(testing_labels, test_predictions_baseline)"
      ],
      "execution_count": null,
      "outputs": [
        {
          "output_type": "stream",
          "name": "stdout",
          "text": [
            "loss :  2.2630462646484375\n",
            "tp :  889.0\n",
            "fp :  949.0\n",
            "tn :  1496.0\n",
            "fn :  807.0\n",
            "accuracy :  0.5759478211402893\n",
            "precision :  0.4836779236793518\n",
            "recall :  0.5241745114326477\n",
            "auc :  0.5901156663894653\n",
            "\n",
            "Legitimate Transactions Detected (True Negatives):  1496\n",
            "Legitimate Transactions Incorrectly Detected (False Positives):  949\n",
            "Fraudulent Transactions Missed (False Negatives):  807\n",
            "Fraudulent Transactions Detected (True Positives):  889\n",
            "Total Fraudulent Transactions:  1696\n"
          ]
        },
        {
          "output_type": "display_data",
          "data": {
            "image/png": "[encoded data removed]",
            "text/plain": [
              "<Figure size 360x360 with 2 Axes>"
            ]
          },
          "metadata": {
            "needs_background": "light"
          }
        }
      ]
    },
    {
      "cell_type": "code",
      "metadata": {
        "colab": {
          "base_uri": "https://localhost:8080/",
          "height": 610
        },
        "id": "Xif14dRp7Gwv",
        "outputId": "27ea53ba-f3a7-4422-e6ad-87ed87143937"
      },
      "source": [
        "# for LSTM(dropout)\n",
        "test_predictions_baseline = model_regularization.predict(testing_padded, batch_size=1000)\n",
        "\n",
        "baseline_results = model_regularization.evaluate(testing_padded , testing_labels,\n",
        "                                  batch_size=1000, verbose=0)\n",
        "for name, value in zip(model_regularization.metrics_names, baseline_results):\n",
        "  print(name, ': ', value)\n",
        "print()\n",
        "\n",
        "plot_cm(testing_labels, test_predictions_baseline)"
      ],
      "execution_count": null,
      "outputs": [
        {
          "output_type": "stream",
          "name": "stdout",
          "text": [
            "loss :  3.0319581031799316\n",
            "tp :  889.0\n",
            "fp :  963.0\n",
            "tn :  1482.0\n",
            "fn :  807.0\n",
            "accuracy :  0.5725669860839844\n",
            "precision :  0.480021595954895\n",
            "recall :  0.5241745114326477\n",
            "auc :  0.5802542567253113\n",
            "\n",
            "Legitimate Transactions Detected (True Negatives):  1482\n",
            "Legitimate Transactions Incorrectly Detected (False Positives):  963\n",
            "Fraudulent Transactions Missed (False Negatives):  807\n",
            "Fraudulent Transactions Detected (True Positives):  889\n",
            "Total Fraudulent Transactions:  1696\n"
          ]
        },
        {
          "output_type": "display_data",
          "data": {
            "image/png": "[encoded data removed]",
            "text/plain": [
              "<Figure size 360x360 with 2 Axes>"
            ]
          },
          "metadata": {
            "needs_background": "light"
          }
        }
      ]
    },
    {
      "cell_type": "code",
      "metadata": {
        "colab": {
          "base_uri": "https://localhost:8080/",
          "height": 610
        },
        "id": "T3I51PZu7U_F",
        "outputId": "af05e3de-75e3-4b1b-a85f-bf9a4506483b"
      },
      "source": [
        "# for CNN\n",
        "test_predictions_baseline = model_cnn.predict(testing_padded, batch_size=1000)\n",
        "\n",
        "baseline_results = model_cnn.evaluate(testing_padded , testing_labels,\n",
        "                                  batch_size=1000, verbose=0)\n",
        "for name, value in zip(model_cnn.metrics_names, baseline_results):\n",
        "  print(name, ': ', value)\n",
        "print()\n",
        "\n",
        "plot_cm(testing_labels, test_predictions_baseline)"
      ],
      "execution_count": null,
      "outputs": [
        {
          "output_type": "stream",
          "name": "stdout",
          "text": [
            "loss :  1.3236027956008911\n",
            "tp :  806.0\n",
            "fp :  807.0\n",
            "tn :  1638.0\n",
            "fn :  890.0\n",
            "accuracy :  0.5901955962181091\n",
            "precision :  0.4996900260448456\n",
            "recall :  0.47523584961891174\n",
            "auc :  0.6068615913391113\n",
            "\n",
            "Legitimate Transactions Detected (True Negatives):  1638\n",
            "Legitimate Transactions Incorrectly Detected (False Positives):  807\n",
            "Fraudulent Transactions Missed (False Negatives):  890\n",
            "Fraudulent Transactions Detected (True Positives):  806\n",
            "Total Fraudulent Transactions:  1696\n"
          ]
        },
        {
          "output_type": "display_data",
          "data": {
            "image/png": "[encoded data removed]",
            "text/plain": [
              "<Figure size 360x360 with 2 Axes>"
            ]
          },
          "metadata": {
            "needs_background": "light"
          }
        }
      ]
    },
    {
      "cell_type": "code",
      "metadata": {
        "id": "Ze9Xr5AC7kY4"
      },
      "source": [
        ""
      ],
      "execution_count": null,
      "outputs": []
    }
  ]
}